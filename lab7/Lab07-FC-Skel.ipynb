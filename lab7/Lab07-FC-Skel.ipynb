{
 "cells": [
  {
   "cell_type": "markdown",
   "metadata": {},
   "source": [
    "# Logica cu predicate (3). Înlănțuire înainte în Sisteme bazate pe reguli\n",
    "\n",
    "- Tudor Berariu\n",
    "- Andrei Olaru\n",
    "\n",
    "## 1. Introducere\n",
    "### Scopul laboratorului\n",
    "\n",
    "Scopul acestui laborator îl reprezintă înțelegerea și implementarea demonstrării teoremelor prin înlănțuire înainte.\n",
    "\n",
    "### Clauze definite. Reguli. Fapte\n",
    "\n",
    "În cadrul acestui laborator vom folosi un tip anume de formule, mai precis **clauze definite**. Acestea sunt clauze Horn cu exact un literal pozitiv.\n",
    "\n",
    "$$\\neg p_1 \\vee \\neg p_2 \\vee \\ldots \\vee \\neg p_N \\vee c$$\n",
    "\n",
    "În scrierea echivalentă:\n",
    "\n",
    "$$\\left( p_1 \\wedge p_2 \\wedge \\ldots \\wedge p_N \\right) \\rightarrow c$$\n",
    "\n",
    "devine evident ce reprezintă clauzele definite. Ele au o formă asemănătoare regulilor.\n",
    "\n",
    "Vom numi **regulă** o clauză definită cu cel puțin un literal negativ și vom numi **fapt** o clauză definită cu un singur literal (cel pozitiv).\n",
    "\n",
    "### Problema de rezolvat\n",
    "\n",
    "Problema pe care o vom rezolva astăzi se enunță astfel: *dată fiind o bază de cunoștințe* `kb` *formată din clauze definite (fapte și reguli), să se demonstreze o teoremă* `t`."
   ]
  },
  {
   "cell_type": "markdown",
   "metadata": {},
   "source": [
    "## 2. Funcții utile din laboratoarele anterioare\n",
    "\n",
    "### Cerința 0\n",
    "\n",
    "Salvați rezolvarea laboratorului 5 (*Reprezentare și Unificare*) cu numele `Lab05.py`. Vom folosi și funcțiile deja implementate din Laboratorul 6. Din acesta, funcțiile importante pentru astăzi sunt:\n",
    " - `make_var`, `make_const`, `make_atom` - utile pentru a construi atomi. De exemplu, $$Vreme(maine, Frig)$$ se construiește astfel:\n",
    "     \n",
    "     `make_atom(\"Vreme\", make_var(\"maine\"), make_const(\"Frig\"))`\n",
    " \n",
    " - `unify` și `substitute` - utile pentru calcularea celui mai general unificator pentru două formule și pentru aplicarea unei substituții\n",
    " - `is_positive_literal` și `is_negative_literal`\n",
    " - `add_statement` - adaugă o clauză definită unei baze de cunoștințe. Avem două variante de utilizare în acest laborator:\n",
    "   * `add_statement(kb, Atom)` - adaugă în kb faptul Atom\n",
    "   * `add_statement(kb, C, P1, P2, Pn)` - adaugă în kb regula $\\left( p_1 \\wedge p_2 \\wedge p_N \\right) \\rightarrow c$ sub forma:\n",
    "   \n",
    "   `make_or(make_neg(P1), make_neg(P2), make_neg(Pn), C)`\n",
    "   \n",
    "### Cerința 1\n",
    "\n",
    "Faceți următoarea modificare funcției `unify`: antetul funcției\n",
    "\n",
    "    def unify(f1, f2):\n",
    "        ...\n",
    "        subst = {}\n",
    "\n",
    "trebuie transformat astfel încât să primească un al treilea parametru, o substituție de pornire\n",
    "\n",
    "    def unify(f1, f2, subst=None):\n",
    "        if not subst:\n",
    "            subst = {}\n",
    "\n",
    "**Nu uitați** ca după modificarea lui `unify` să descărcați din nou laboratorul 5 ca fișier Python și să dați Kernel restart în acest fișier."
   ]
  },
  {
   "cell_type": "code",
   "execution_count": 15,
   "metadata": {
    "pycharm": {
     "is_executing": false
    }
   },
   "outputs": [],
   "source": [
    "from lab6.Lab05 import *\n",
    "from lab7.Lab07fct import *\n",
    "from lab7.LPTester import *"
   ]
  },
  {
   "cell_type": "markdown",
   "metadata": {},
   "source": [
    "## 3. Baza de cunoștințe\n",
    "\n",
    "Să se completeze reprezentarea bazei de cunoștințe de mai jos știind că ea corespunde următoarelor afirmații:\n",
    "\n",
    "[TODO 2.1:] *Dacă a plouat două zile la rând, a treia zi va fi frumos.* [TODO 2.2:] *Dacă a fost frumos trei zile la rând, în cea de-a patra zi va ploua.* [TODO 2.3:] *Un student merge întotdeauna la munte dacă este frumos într-o zi de weekend. Cine merge la munte și practică un sport de iarnă va avea activități legate de acel sport de iarnă.*\n",
    "\n",
    "*Arsenie și Nectarie sunt studenți. Arsenie practică volei și schi, iar Nectarie practică schi și sanie. Voleiul este un sport de vară, în timp ce schiul și sania sunt sporturi de iarnă. Vineri plouă; luni, marți și miercuri este frumos*\n",
    "\n",
    "### Cerința 2:\n",
    "\n",
    "Completați mai jos clauzele definite pentru primele 3 propoziții.\n",
    "* `add_statement` are ca argumente\n",
    "  * baza de cunoștințe\n",
    "  * concluzia\n",
    "  * premisele (ca argumente individuale)"
   ]
  },
  {
   "cell_type": "code",
   "execution_count": 16,
   "metadata": {
    "pycharm": {
     "is_executing": false
    }
   },
   "outputs": [
    {
     "name": "stdout",
     "text": [
      "Baza de cunoștințe se prezintă astfel:\nOK: Added statement Consecutive(Luni, Marti)\nOK: Added statement Consecutive(Marti, Miercuri)\nOK: Added statement Consecutive(Miercuri, Joi)\nOK: Added statement Consecutive(Joi, Vineri)\nOK: Added statement Consecutive(Vineri, Sambata)\nOK: Added statement Consecutive(Sambata, Duminica)\nOK: Added statement Weekend(Sambata)\nOK: Added statement Weekend(Duminica)\nOK: Added statement Ploua(Vineri)\nOK: Added statement (V ~Ploua(?x) ~Ploua(?y) ~Consecutive(?x, ?y) ~Consecutive(?y, ?z) Frumos(?z))\nOK: Added statement Frumos(Luni)\nOK: Added statement Frumos(Marti)\nOK: Added statement Frumos(Miercuri)\nOK: Added statement (V ~Frumos(?x) ~Frumos(?y) ~Frumos(?z) ~Consecutive(?x, ?y) ~Consecutive(?y, ?z) ~Consecutive(?z, ?t) Ploua(?t))\nOK: Added statement Student(Nectarie)\nOK: Added statement Student(Arsenie)\nOK: Added statement (V ~Student(?who) ~Frumos(?when) ~Weekend(?when) ~Consecutive(?z, ?t) MergeLaMunte(?who, ?when))\nOK: Added statement SportDeVara(Volei)\nOK: Added statement SportDeIarna(Schi)\nOK: Added statement SportDeIarna(Sanie)\nOK: Added statement PracticaSport(Nectarie, Schi)\nOK: Added statement PracticaSport(Nectarie, Sanie)\nOK: Added statement PracticaSport(Arsenie, Schi)\nOK: Added statement PracticaSport(Arsenie, Volei)\nOK: Added statement (V ~MergeLaMunte(?who, ?when) ~PracticaSport(?who, ?what) Activitate(?who, ?what, ?when))\nKB now:\n\t\t\tConsecutive(Luni, Marti)\n\t\t\tConsecutive(Marti, Miercuri)\n\t\t\tConsecutive(Miercuri, Joi)\n\t\t\tConsecutive(Joi, Vineri)\n\t\t\tConsecutive(Vineri, Sambata)\n\t\t\tConsecutive(Sambata, Duminica)\n\t\t\tWeekend(Sambata)\n\t\t\tWeekend(Duminica)\n\t\t\tPloua(Vineri)\n\t\t\t(V ~Ploua(?x) ~Ploua(?y) ~Consecutive(?x, ?y) ~Consecutive(?y, ?z) Frumos(?z))\n\t\t\tFrumos(Luni)\n\t\t\tFrumos(Marti)\n\t\t\tFrumos(Miercuri)\n\t\t\t(V ~Frumos(?x) ~Frumos(?y) ~Frumos(?z) ~Consecutive(?x, ?y) ~Consecutive(?y, ?z) ~Consecutive(?z, ?t) Ploua(?t))\n\t\t\tStudent(Nectarie)\n\t\t\tStudent(Arsenie)\n\t\t\t(V ~Student(?who) ~Frumos(?when) ~Weekend(?when) ~Consecutive(?z, ?t) MergeLaMunte(?who, ?when))\n\t\t\tSportDeVara(Volei)\n\t\t\tSportDeIarna(Schi)\n\t\t\tSportDeIarna(Sanie)\n\t\t\tPracticaSport(Nectarie, Schi)\n\t\t\tPracticaSport(Nectarie, Sanie)\n\t\t\tPracticaSport(Arsenie, Schi)\n\t\t\tPracticaSport(Arsenie, Volei)\n\t\t\t(V ~MergeLaMunte(?who, ?when) ~PracticaSport(?who, ?what) Activitate(?who, ?what, ?when))\n==================== \n Baza de cunoștințe arată intern astfel:\n('atom', 'Consecutive', [('const', 'Luni'), ('const', 'Marti')])\n('atom', 'Consecutive', [('const', 'Marti'), ('const', 'Miercuri')])\n('atom', 'Consecutive', [('const', 'Miercuri'), ('const', 'Joi')])\n('atom', 'Consecutive', [('const', 'Joi'), ('const', 'Vineri')])\n('atom', 'Consecutive', [('const', 'Vineri'), ('const', 'Sambata')])\n('atom', 'Consecutive', [('const', 'Sambata'), ('const', 'Duminica')])\n('atom', 'Weekend', [('const', 'Sambata')])\n('atom', 'Weekend', [('const', 'Duminica')])\n('atom', 'Ploua', [('const', 'Vineri')])\n('or', 'V', [('neg', '~', [('atom', 'Ploua', [('value', 'x')])]), ('neg', '~', [('atom', 'Ploua', [('value', 'y')])]), ('neg', '~', [('atom', 'Consecutive', [('value', 'x'), ('value', 'y')])]), ('neg', '~', [('atom', 'Consecutive', [('value', 'y'), ('value', 'z')])]), ('atom', 'Frumos', [('value', 'z')])])\n('atom', 'Frumos', [('const', 'Luni')])\n('atom', 'Frumos', [('const', 'Marti')])\n('atom', 'Frumos', [('const', 'Miercuri')])\n('or', 'V', [('neg', '~', [('atom', 'Frumos', [('value', 'x')])]), ('neg', '~', [('atom', 'Frumos', [('value', 'y')])]), ('neg', '~', [('atom', 'Frumos', [('value', 'z')])]), ('neg', '~', [('atom', 'Consecutive', [('value', 'x'), ('value', 'y')])]), ('neg', '~', [('atom', 'Consecutive', [('value', 'y'), ('value', 'z')])]), ('neg', '~', [('atom', 'Consecutive', [('value', 'z'), ('value', 't')])]), ('atom', 'Ploua', [('value', 't')])])\n('atom', 'Student', [('const', 'Nectarie')])\n('atom', 'Student', [('const', 'Arsenie')])\n('or', 'V', [('neg', '~', [('atom', 'Student', [('value', 'who')])]), ('neg', '~', [('atom', 'Frumos', [('value', 'when')])]), ('neg', '~', [('atom', 'Weekend', [('value', 'when')])]), ('neg', '~', [('atom', 'Consecutive', [('value', 'z'), ('value', 't')])]), ('atom', 'MergeLaMunte', [('value', 'who'), ('value', 'when')])])\n('atom', 'SportDeVara', [('const', 'Volei')])\n('atom', 'SportDeIarna', [('const', 'Schi')])\n('atom', 'SportDeIarna', [('const', 'Sanie')])\n('atom', 'PracticaSport', [('const', 'Nectarie'), ('const', 'Schi')])\n('atom', 'PracticaSport', [('const', 'Nectarie'), ('const', 'Sanie')])\n('atom', 'PracticaSport', [('const', 'Arsenie'), ('const', 'Schi')])\n('atom', 'PracticaSport', [('const', 'Arsenie'), ('const', 'Volei')])\n('or', 'V', [('neg', '~', [('atom', 'MergeLaMunte', [('value', 'who'), ('value', 'when')])]), ('neg', '~', [('atom', 'PracticaSport', [('value', 'who'), ('value', 'what')])]), ('atom', 'Activitate', [('value', 'who'), ('value', 'what'), ('value', 'when')])])\n\n"
     ],
     "output_type": "stream"
    }
   ],
   "source": [
    "def get_sports_kb():\n",
    "    sports_kb = []\n",
    "    # Predicatul 'Consecutive'\n",
    "    add_statement(sports_kb, make_atom('Consecutive', make_const('Luni'), make_const('Marti')))\n",
    "    add_statement(sports_kb, make_atom('Consecutive', make_const('Marti'), make_const('Miercuri')))\n",
    "    add_statement(sports_kb, make_atom('Consecutive', make_const('Miercuri'), make_const('Joi')))\n",
    "    add_statement(sports_kb, make_atom('Consecutive', make_const('Joi'), make_const('Vineri')))\n",
    "    add_statement(sports_kb, make_atom('Consecutive', make_const('Vineri'), make_const('Sambata')))\n",
    "    add_statement(sports_kb, make_atom('Consecutive', make_const('Sambata'), make_const('Duminica')))\n",
    "    # Predicatul 'Weekend'\n",
    "    add_statement(sports_kb, make_atom('Weekend', make_const('Sambata')))\n",
    "    add_statement(sports_kb, make_atom('Weekend', make_const('Duminica')))\n",
    "    # Predicatul 'Ploua'\n",
    "    add_statement(sports_kb, make_atom('Ploua', make_const('Vineri')))\n",
    "    # TODO 2.1: Dacă a plouat două zile la rând, a treia zi va fi frumos.\n",
    "    add_statement(sports_kb, make_atom('Frumos', make_var('z')), make_atom('Ploua', make_var('x')), make_atom('Ploua', make_var('y')), make_atom('Consecutive', make_var('x'), make_var('y')), make_atom('Consecutive', make_var('y'), make_var('z')))\n",
    "    # Predicatul 'Frumos'\n",
    "    add_statement(sports_kb, make_atom('Frumos', make_const('Luni')))\n",
    "    add_statement(sports_kb, make_atom('Frumos', make_const('Marti')))\n",
    "    add_statement(sports_kb, make_atom('Frumos', make_const('Miercuri')))\n",
    "    # TODO 2.2: Dacă a fost frumos trei zile la rând, în cea de-a patra zi va ploua.\n",
    "    add_statement(sports_kb, make_atom('Ploua', make_var('t')), make_atom('Frumos', make_var('x')), make_atom('Frumos', make_var('y')), make_atom('Frumos', make_var('z')), make_atom('Consecutive', make_var('x'), make_var('y')), make_atom('Consecutive', make_var('y'), make_var('z')), make_atom('Consecutive', make_var('z'), make_var('t')))\n",
    "    # Predicatul 'Student'\n",
    "    add_statement(sports_kb, make_atom('Student', make_const('Nectarie')))\n",
    "    add_statement(sports_kb, make_atom('Student', make_const('Arsenie')))\n",
    "    # MergeLaMunte (cine, cand)\n",
    "    # TODO 2.3: Un student merge întotdeauna la munte dacă este frumos într-o zi de weekend.\n",
    "    add_statement(sports_kb, make_atom('MergeLaMunte', make_var('who'), make_var('when')), make_atom('Student', make_var('who')), make_atom('Frumos', make_var('when')), make_atom('Weekend', make_var('when')), make_atom('Consecutive', make_var('z'), make_var('t')))\n",
    "    # Predicatul 'SportDeVara'\n",
    "    add_statement(sports_kb, make_atom('SportDeVara', make_const('Volei')))\n",
    "    # Predicatul 'SportDeIarna'\n",
    "    add_statement(sports_kb, make_atom('SportDeIarna', make_const('Schi')))\n",
    "    add_statement(sports_kb, make_atom('SportDeIarna', make_const('Sanie')))\n",
    "    # Predicatul 'PracticaSport'\n",
    "    add_statement(sports_kb, make_atom('PracticaSport', make_const('Nectarie'), make_const('Schi')))\n",
    "    add_statement(sports_kb, make_atom('PracticaSport', make_const('Nectarie'), make_const('Sanie')))\n",
    "    add_statement(sports_kb, make_atom('PracticaSport', make_const('Arsenie'), make_const('Schi')))\n",
    "    add_statement(sports_kb, make_atom('PracticaSport', make_const('Arsenie'), make_const('Volei')))\n",
    "    # Predicatul 'Activitate'\n",
    "    add_statement(sports_kb, make_atom('Activitate', make_var('who'), make_var('what'), make_var('when')),\n",
    "                  make_atom('MergeLaMunte', make_var('who'), make_var('when')),\n",
    "                  make_atom('PracticaSport', make_var('who'), make_var('what'))\n",
    "                 )\n",
    "    make_unique_var_names(sports_kb)\n",
    "    return sports_kb\n",
    "\n",
    "\n",
    "print(\"Baza de cunoștințe se prezintă astfel:\")\n",
    "skb = get_sports_kb()\n",
    "print_KB(skb)\n",
    "print(\"==================== \\n Baza de cunoștințe arată intern astfel:\")\n",
    "print(\"\" + \"\".join([(str(s) + \"\\n\") for s in skb]))"
   ]
  },
  {
   "cell_type": "markdown",
   "metadata": {},
   "source": [
    "## 4. Funcții auxiliare\n",
    "\n",
    "**Cerința 3:** Implementați funcțiile `get_premises`, `get_conclusion`, `is_fact` și `is_rule`. Toate acestea primesc o clauză definită (în baza de cunoștințe dată, poate fi un atom singur sau o disjuncție de literali) și întorc ceea ce specifică numele lor."
   ]
  },
  {
   "cell_type": "code",
   "execution_count": 17,
   "metadata": {
    "pycharm": {
     "is_executing": false
    }
   },
   "outputs": [
    {
     "name": "stdout",
     "text": [
      "P(?x) ; Q(?x)\nR(?x)\nTrue\nFalse\nTrue\nFalse\n"
     ],
     "output_type": "stream"
    }
   ],
   "source": [
    "def get_premises(formula):\n",
    "    # argument = get_args(formula)\n",
    "    # \n",
    "    # premises = []\n",
    "    # for premnis in argument[:-1]:\n",
    "    #     premises.append(get_args(premnis)[0])\n",
    "    # \n",
    "    # return premises\n",
    "    return [get_args(args)[0] for args in get_args(formula)[:-1]]\n",
    "\n",
    "def get_conclusion(formula):\n",
    "    return get_args(formula)[-1]\n",
    "\n",
    "def is_fact(formula):\n",
    "    return is_atom(formula)\n",
    "\n",
    "def is_rule(formula):\n",
    "    # TODO\n",
    "    return not is_atom(formula)\n",
    "\n",
    "# Test!\n",
    "# formula: P(x) ^ Q(x) -> R(x)\n",
    "f = make_or(make_neg(make_atom(\"P\", make_var(\"x\"))), make_neg(make_atom(\"Q\", make_var(\"x\"))), make_atom(\"R\", make_var(\"x\")))\n",
    "print(\" ; \".join([print_formula(p, True) for p in get_premises(f)])) # Should be P(?x) ; Q(?x)\n",
    "print_formula(get_conclusion(f)) # Should be R(?x)\n",
    "print(is_rule(f)) # must be True\n",
    "print(is_fact(f)) # must be False\n",
    "print(is_fact(get_conclusion(f))) # must be True\n",
    "print(is_rule(get_conclusion(f))) # must be False"
   ]
  },
  {
   "cell_type": "code",
   "execution_count": 18,
   "metadata": {
    "pycharm": {
     "is_executing": false
    }
   },
   "outputs": [],
   "source": [
    "def equal_terms(t1, t2):\n",
    "    if is_constant(t1) and is_constant(t2):\n",
    "        return get_value(t1) == get_value(t2)\n",
    "    if is_variable(t1) and is_variable(t2):\n",
    "            return get_name(t1) == get_name(t2)\n",
    "    if is_function_call(t1) and is_function_call(t2):\n",
    "        if get_head(t1) != get_head(t2):\n",
    "            return all([equal_terms(get_args(t1)[i], get_args(t2)[i]) for i in range(len(get_args(t1)))])\n",
    "    return False\n",
    "\n",
    "def is_equal_to(a1, a2):\n",
    "    # verificăm atomi cu același nume de predicat și același număr de argumente\n",
    "    if not (is_atom(a1) and is_atom(a2) and get_head(a1) == get_head(a2) and len(get_args(a1)) == len(get_args(a2))):\n",
    "        return False\n",
    "    return all([equal_terms(get_args(a1)[i], get_args(a2)[i]) for i in range(len(get_args(a1)))])"
   ]
  },
  {
   "cell_type": "markdown",
   "metadata": {},
   "source": [
    "## 5. Demonstrarea teoremelor prin înlănțuire înainte\n",
    "\n",
    "### Cerința 4\n",
    "\n",
    "Implementați funcția `apply_rule(rule, facts)` care primește o regulă și un set de fapte și întoarce toate faptele care pot fi determinate prin aplicarea regulii pe faptele date.\n",
    "\n",
    "Folosiți-vă de `unify`, `substitute`, dar și de `get_premises` și `get_conclusion` implementate mai devreme."
   ]
  },
  {
   "cell_type": "code",
   "execution_count": 19,
   "metadata": {
    "pycharm": {
     "is_executing": false
    }
   },
   "outputs": [
    {
     "name": "stdout",
     "text": [
      "Expected:  Q(1) Result:\nQ(1)\n=====\nExpected:  R(2) ; R(3) Result:\nR(2)\nR(3)\n=====\nExpected:  T(3, 2) Result:\nT(3, 2)\n=====\nExpected:  T(5) ; T(6) Result:\nT(6)\nT(5)\n"
     ],
     "output_type": "stream"
    }
   ],
   "source": [
    "from copy import deepcopy\n",
    "# from __future__ import print_function\n",
    "\n",
    "def apply_rule(rule, facts):\n",
    "    # TODO\n",
    "    premises = get_premises(rule)\n",
    "    list_subs = [{}]\n",
    "    \n",
    "    for premise in premises:\n",
    "        new_subs = []\n",
    "        for subs in list_subs:\n",
    "            for fact in facts:\n",
    "                sub = unify(premise, fact, deepcopy(subs))\n",
    "                \n",
    "                if sub != False:\n",
    "                    new_subs.append(sub)\n",
    "                    \n",
    "        list_subs = new_subs\n",
    "        \n",
    "    rezult = []\n",
    "    conclusion = get_conclusion(rule)\n",
    "    \n",
    "    for substitution in list_subs:\n",
    "        rezult.append(substitute(conclusion, substitution))\n",
    "    \n",
    "    return rezult\n",
    "\n",
    "# Test!\n",
    "# Rule: P(x) => Q(x)\n",
    "# Facts: P(1)\n",
    "print(\"Expected: \", print_formula(make_atom('Q', make_const(1)), True), \"Result:\")\n",
    "for f in apply_rule( \n",
    "        make_or(make_neg(make_atom(\"P\", make_var(\"x\"))), make_atom(\"Q\", make_var(\"x\"))), \\\n",
    "        [make_atom(\"P\", make_const(1))]):\n",
    "    print_formula(f) # should be Q(1)\n",
    "print(\"=====\")\n",
    "# Rule: P(x) ^ Q(x) => R(x)\n",
    "# Facts: P(1), P(2), P(3), Q(3), Q(2)\n",
    "print(\"Expected: \", print_formula(make_atom('R', make_const(2)), True), \";\",\n",
    "      print_formula(make_atom('R', make_const(3)), True), \"Result:\")\n",
    "for f in apply_rule( \n",
    "        make_or(\n",
    "            make_neg(make_atom(\"P\", make_var(\"x\"))),\n",
    "            make_neg(make_atom(\"Q\", make_var(\"x\"))),\n",
    "            make_atom(\"R\", make_var(\"x\"))),\n",
    "        [make_atom(\"P\", make_const(x)) for x in [1, 2, 3]] + \\\n",
    "        [make_atom(\"Q\", make_const(x)) for x in [3, 2]]):\n",
    "    print_formula(f) # should be R(2) and R(3)\n",
    "print(\"=====\")\n",
    "# Rule: P(x) ^ Q(y) ^ R(x, y) => T(x, y)\n",
    "# Facts: P(1), P(2), P(3), Q(3), Q(2), R(3, 2)\n",
    "print(\"Expected: \", print_formula(make_atom('T', make_const(3), make_const(2)), True), \"Result:\")\n",
    "for f in apply_rule( \n",
    "        make_or(\n",
    "            make_neg(make_atom(\"P\", make_var(\"x\"))),\n",
    "            make_neg(make_atom(\"Q\", make_var(\"y\"))),\n",
    "            make_neg(make_atom(\"R\", make_var(\"x\"), make_var(\"y\"))),\n",
    "            make_atom(\"T\", make_var(\"x\"), make_var(\"y\"))),\n",
    "        [make_atom(\"P\", make_const(x)) for x in [1, 2, 3]] + \\\n",
    "        [make_atom(\"Q\", make_const(x)) for x in [3, 2]] + \\\n",
    "        [make_atom(\"R\", make_const(3), make_const(2))]):\n",
    "    print_formula(f) # should be T(3, 2)\n",
    "print(\"=====\")\n",
    "# Rule: P(x) ^ Q(y) ^ R(x, y, z) => T(z)\n",
    "# Facts: P(1), P(2), P(3), Q(3), Q(2), R(1, 1, 1), R(2, 1, 2), R(2, 3, 5), R(4, 2, 3), R(1, 2, 6)\n",
    "print(\"Expected: \", print_formula(make_atom('T', make_const(5)), True), \";\", \n",
    "      print_formula(make_atom('T', make_const(6)), True), \"Result:\")\n",
    "for f in apply_rule( \n",
    "        make_or(\n",
    "            make_neg(make_atom(\"P\", make_var(\"x\"))),\n",
    "            make_neg(make_atom(\"Q\", make_var(\"y\"))),\n",
    "            make_neg(make_atom(\"R\", make_var(\"x\"), make_var(\"y\"), make_var(\"z\"))),\n",
    "            make_atom(\"T\", make_var(\"z\"))),\n",
    "        [make_atom(\"P\", make_const(x)) for x in [1, 2, 3]] + \\\n",
    "        [make_atom(\"Q\", make_const(x)) for x in [3, 2]] + \\\n",
    "        [make_atom(\"R\", make_const(x), make_const(y), make_const(z)) \\\n",
    "             for x, y, z in [(1, 1, 1), (2, 1, 2), (2, 3, 5), (4, 2, 3), (1, 2, 6)]]):\n",
    "    print_formula(f) # should be T(5) and T(6)"
   ]
  },
  {
   "cell_type": "code",
   "execution_count": 20,
   "metadata": {
    "pycharm": {
     "is_executing": false
    }
   },
   "outputs": [],
   "source": [
    "def forward_chaining(kb, theorem, verbose = True):\n",
    "    # Salvăm baza de date originală, lucrăm cu o copie\n",
    "    local_kb = deepcopy(kb)\n",
    "    # Două variabile care descriu starea căutării\n",
    "    got_new_facts = True   # s-au găsit fapte noi la ultima căutare\n",
    "    is_proved = False      # a fost demostrată teorema\n",
    "    # Verificăm dacă teorema este deja demonstrată\n",
    "    for fact in filter(is_fact, local_kb):\n",
    "        if unify(fact, theorem):\n",
    "            if verbose: print(\"This already in KB: \" + print_formula(fact, True))\n",
    "            is_proved = True\n",
    "            break\n",
    "    while (not is_proved) and got_new_facts:\n",
    "        got_new_facts = False\n",
    "        for rule in filter(is_rule, local_kb):\n",
    "            # Pentru fiecare regulă\n",
    "            new_facts = apply_rule(rule, list(filter(is_fact, local_kb)))\n",
    "            new_facts = list(filter(lambda fact: not any(list(filter(lambda orig: is_equal_to(fact, orig), local_kb))), new_facts))\n",
    "            if new_facts:\n",
    "                if verbose: print(\"Applied rule: \" + print_formula(rule, True) + \", obtained \" + str(len(new_facts)) + \" new facts.\")\n",
    "                if any(filter(lambda t: is_variable(t), get_args(get_conclusion(rule)))) and \\\n",
    "                    any(filter(lambda fact: is_equal_to(fact, get_conclusion(rule)), new_facts)):\n",
    "                        print(\"Demonstration is too general, the conclusion is not instantiated (facts obtained:\", \n",
    "                              \",\".join([print_formula(f, True) for f in new_facts]),\").\")\n",
    "                        return False\n",
    "                got_new_facts = True\n",
    "                for fact in new_facts:\n",
    "                    #if verbose: print(\"New fact: \" + print_formula(fact, True))\n",
    "                    if unify(fact, theorem) != False:\n",
    "                        is_proved = True\n",
    "                        add_statement(local_kb, fact)\n",
    "                        if verbose: print(\"Now in KB: \" + print_formula(fact, True))\n",
    "                        break\n",
    "                    add_statement(local_kb, fact)\n",
    "            if is_proved:\n",
    "                break\n",
    "    if verbose:\n",
    "        if is_proved:\n",
    "            print(\"The theorem is TRUE!\")\n",
    "        else:\n",
    "            print(\"The theorem is FALSE!\")\n",
    "    return is_proved"
   ]
  },
  {
   "cell_type": "code",
   "execution_count": 21,
   "metadata": {
    "pycharm": {
     "is_executing": false
    }
   },
   "outputs": [
    {
     "name": "stdout",
     "text": [
      "================== 0\nThis already in KB: Frumos(Luni)\nThe theorem is TRUE!\nTest OK!\n================== 1\nThis already in KB: Ploua(Vineri)\nThe theorem is TRUE!\nTest OK!\n================== 2\nApplied rule: (V ~Frumos(?x) ~Frumos(?y) ~Frumos(?z) ~Consecutive(?x, ?y) ~Consecutive(?y, ?z) ~Consecutive(?z, ?t) Ploua(?t)), obtained 1 new facts.\nOK: Added statement Ploua(Joi)\nNow in KB: Ploua(Joi)\nThe theorem is TRUE!\nTest OK!\n================== 3\nApplied rule: (V ~Frumos(?x) ~Frumos(?y) ~Frumos(?z) ~Consecutive(?x, ?y) ~Consecutive(?y, ?z) ~Consecutive(?z, ?t) Ploua(?t)), obtained 1 new facts.\nOK: Added statement Ploua(Joi)\nApplied rule: (V ~Ploua(?x) ~Ploua(?y) ~Consecutive(?x, ?y) ~Consecutive(?y, ?z) Frumos(?z)), obtained 1 new facts.\nOK: Added statement Frumos(Sambata)\nNow in KB: Frumos(Sambata)\nThe theorem is TRUE!\nTest OK!\n================== 4\nApplied rule: (V ~Frumos(?x) ~Frumos(?y) ~Frumos(?z) ~Consecutive(?x, ?y) ~Consecutive(?y, ?z) ~Consecutive(?z, ?t) Ploua(?t)), obtained 1 new facts.\nOK: Added statement Ploua(Joi)\nApplied rule: (V ~Ploua(?x) ~Ploua(?y) ~Consecutive(?x, ?y) ~Consecutive(?y, ?z) Frumos(?z)), obtained 1 new facts.\nOK: Added statement Frumos(Sambata)\nApplied rule: (V ~Student(?who) ~Frumos(?when) ~Weekend(?when) ~Consecutive(?z, ?t) MergeLaMunte(?who, ?when)), obtained 12 new facts.\nOK: Added statement MergeLaMunte(Nectarie, Sambata)\nOK: Added statement MergeLaMunte(Nectarie, Sambata)\nOK: Added statement MergeLaMunte(Nectarie, Sambata)\nOK: Added statement MergeLaMunte(Nectarie, Sambata)\nOK: Added statement MergeLaMunte(Nectarie, Sambata)\nOK: Added statement MergeLaMunte(Nectarie, Sambata)\nOK: Added statement MergeLaMunte(Arsenie, Sambata)\nOK: Added statement MergeLaMunte(Arsenie, Sambata)\nOK: Added statement MergeLaMunte(Arsenie, Sambata)\nOK: Added statement MergeLaMunte(Arsenie, Sambata)\nOK: Added statement MergeLaMunte(Arsenie, Sambata)\nOK: Added statement MergeLaMunte(Arsenie, Sambata)\nApplied rule: (V ~MergeLaMunte(?who, ?when) ~PracticaSport(?who, ?what) Activitate(?who, ?what, ?when)), obtained 24 new facts.\nOK: Added statement Activitate(Nectarie, Schi, Sambata)\nOK: Added statement Activitate(Nectarie, Sanie, Sambata)\nOK: Added statement Activitate(Nectarie, Schi, Sambata)\nOK: Added statement Activitate(Nectarie, Sanie, Sambata)\nOK: Added statement Activitate(Nectarie, Schi, Sambata)\nOK: Added statement Activitate(Nectarie, Sanie, Sambata)\nOK: Added statement Activitate(Nectarie, Schi, Sambata)\nOK: Added statement Activitate(Nectarie, Sanie, Sambata)\nOK: Added statement Activitate(Nectarie, Schi, Sambata)\nOK: Added statement Activitate(Nectarie, Sanie, Sambata)\nOK: Added statement Activitate(Nectarie, Schi, Sambata)\nOK: Added statement Activitate(Nectarie, Sanie, Sambata)\nOK: Added statement Activitate(Arsenie, Schi, Sambata)\nNow in KB: Activitate(Arsenie, Schi, Sambata)\nThe theorem is TRUE!\nTest OK!\n"
     ],
     "output_type": "stream"
    }
   ],
   "source": [
    "def test_result(result, truth):\n",
    "    print(\"Test OK!\" if result == truth else \"Test FAILED!\")\n",
    "\n",
    "test_kb = skb\n",
    "print(\"================== 0\")\n",
    "test_result(forward_chaining(deepcopy(test_kb), make_atom(\"Frumos\", make_var(\"x\")), True), True)\n",
    "print(\"================== 1\")\n",
    "test_result(forward_chaining(deepcopy(test_kb), make_atom(\"Ploua\", make_var(\"x\")), True), True)\n",
    "print(\"================== 2\")\n",
    "test_result(forward_chaining(deepcopy(test_kb), make_atom(\"Ploua\", make_const(\"Joi\")), True), True)\n",
    "print(\"================== 3\")\n",
    "test_result(forward_chaining(deepcopy(test_kb), make_atom(\"Frumos\", make_const(\"Sambata\")), True), True)\n",
    "print(\"================== 4\")\n",
    "test_result(forward_chaining(deepcopy(test_kb),\n",
    "                             make_atom(\"Activitate\",\n",
    "                                       make_const(\"Arsenie\"), make_var(\"sport\"), make_const(\"Sambata\")), True), True)"
   ]
  },
  {
   "cell_type": "code",
   "execution_count": 21,
   "metadata": {
    "pycharm": {
     "is_executing": false
    }
   },
   "outputs": [],
   "source": []
  }
 ],
 "metadata": {
  "kernelspec": {
   "name": "pycharm-9a468d3e",
   "language": "python",
   "display_name": "PyCharm (Laborator)"
  },
  "language_info": {
   "codemirror_mode": {
    "name": "ipython",
    "version": 3
   },
   "file_extension": ".py",
   "mimetype": "text/x-python",
   "name": "python",
   "nbconvert_exporter": "python",
   "pygments_lexer": "ipython3",
   "version": "3.7.5rc1"
  },
  "pycharm": {
   "stem_cell": {
    "cell_type": "raw",
    "source": [],
    "metadata": {
     "collapsed": false
    }
   }
  }
 },
 "nbformat": 4,
 "nbformat_minor": 1
}