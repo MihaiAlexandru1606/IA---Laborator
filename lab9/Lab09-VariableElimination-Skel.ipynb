{
 "cells": [
  {
   "cell_type": "markdown",
   "metadata": {},
   "source": [
    "# Inferențe în modele probabilistice: Eliminarea variabilelor\n",
    "    Tudor Berariu, 2017\n",
    "\n",
    "Laboratorul precedent a prezentat câteva aspecte teoretice despre rețele Bayesiene. În practică, pentru folosirea lor se conturează câteva probleme:\n",
    "\n",
    " - estimarea structurii (a numărului de variabile și a legăturilor directe dintre acestea)\n",
    " - estimarea parametrilor (a tabelelor de distribuții de probabilități condiționate)\n",
    " - inferențe (calculul unor probabilități oarecare având deja structura și parametrii)\n",
    " \n",
    "În laboratorul curent ne vom ocupa *doar* de problema **inferenței** folosind **algoritmul de eliminare a variabilelor**.\n",
    "\n",
    "## Inferențe în Rețele Bayesiene\n",
    "\n",
    "Una dintre problemele esențiale legate de modelele probabilistice este calculul unor întrebări generale de tipul:\n",
    "$$p\\left({\\bf Y}|{\\bf Z}={\\bf z}\\right)$$\n",
    "unde ${\\bf Y}$ reprezintă o mulțime de variabile neobservate a căror distribuție de probabilitate este cerută în prezența observațiilor ${\\bf Z} = {\\bf z}$ (_evidence_).\n",
    "\n",
    "### Calculul probabilităților condiționate\n",
    "\n",
    "Rescriind ecuația de mai sus astfel:\n",
    "\n",
    "$$p\\left({\\bf Y}|{\\bf Z}={\\bf z}\\right) = \\frac{p\\left({\\bf Y}, {\\bf Z}={\\bf z}\\right)}{p\\left({\\bf Z}={\\bf z}\\right)}$$\n",
    "\n",
    "problema inferenței se reduce la estimarea distribuției comune $P\\left({\\bf Y}, {\\bf Z} = {\\bf z}\\right)$ și apoi o valoare oarecare din acestă distribuție va putea fi calculată astfel:\n",
    "\n",
    "$$p\\left({\\bf Y} = {\\bf y} \\vert {\\bf Z} = {\\bf z}\\right) = \\frac{p\\left({\\bf Y} = {\\bf y}, {\\bf Z} = {\\bf z}\\right)}{\\sum_{{\\bf y}'}p\\left({\\bf Y} = {\\bf y}', {\\bf Z} = {\\bf z}\\right)}$$\n",
    "\n",
    "Folosirea acestei expresii permite următoarea relaxare: găsirea unor valori $\\phi\\left({\\bf Y} = {\\bf y}, {\\bf Z} = {\\bf z}\\right) \\propto P\\left({\\bf Y} = {\\bf y}, {\\bf Z} = {\\bf z}\\right)$, ceea ce permite lucrul cu valori nenormalizate.\n",
    "\n",
    "$$p\\left({\\bf Y} = {\\bf y} \\vert {\\bf Z} = {\\bf z}\\right) = \\frac{\\phi\\left({\\bf Y} = {\\bf y}, {\\bf Z} = {\\bf z}\\right)}{\\sum_{{\\bf y}'}\\phi\\left({\\bf Y} = {\\bf y}', {\\bf Z} = {\\bf z}\\right)}$$\n",
    "\n",
    "În cele ce urmează vom descrie un algoritm care lucrează cu astfel de valori, pe care le vom numi factori.\n",
    "\n",
    "**Extra:** Algoritmul se aplică și rețelelor Markov (varianta _neorientată_ a rețelelor Bayesiene, unde se lucrează cu valori nenormalizate peste clici de variabile)"
   ]
  },
  {
   "cell_type": "markdown",
   "metadata": {},
   "source": [
    "## Factori\n",
    "\n",
    "Un factor va fi o tabelă de valori peste o colecție de variabile. De exemplu, pentru valorile `A`, `B` și `C` un factor $\\phi_{ABC}$ ar putea arăta așa:\n",
    "\n",
    "    A | B | C | Value\n",
    "    --+---+---+------\n",
    "    0 | 0 | 0 | 0.1\n",
    "    0 | 0 | 1 | 0.9\n",
    "    0 | 1 | 0 | 0.8\n",
    "    0 | 1 | 1 | 0.2\n",
    "    1 | 0 | 0 | 0.7\n",
    "    1 | 0 | 1 | 0.4\n",
    "    1 | 1 | 0 | 0.5\n",
    "    1 | 1 | 1 | 0.5\n",
    "\n",
    "unde $\\phi_{ABC}\\left(A=1, B=0, C=0\\right) = 0.7$.\n",
    "   \n",
    "### Reprezentarea factorilor\n",
    "\n",
    "Un factor va fi reprezentat printr-un tuplu cu nume `(vars, values)` unde `vars` este o listă cu numele variabilelor din factorul respectiv, iar `values` este un dicționar ale cărui chei sunt tupluri de valori ale variabilelor, iar valorile dicționarului reprezintă o valoare numerică.\n",
    "\n",
    "De exemplu, factorul $\\phi_{ABC}$ va fi reprezentat astfel:\n",
    "\n",
    "```(vars=[\"A\", \"B\", \"C\"],\n",
    "    values={(0, 0, 0): .1, (0, 0, 1): .9, (0, 1, 0): .8, (0, 1, 1): .2,\n",
    "            (1, 0, 0): .7, (1, 0, 1): .4, (1, 1, 0): .5, (1, 1, 1): .5\n",
    "    }\n",
    ")```\n"
   ]
  },
  {
   "cell_type": "code",
   "execution_count": 85,
   "metadata": {
    "pycharm": {
     "is_executing": false
    }
   },
   "outputs": [
    {
     "name": "stdout",
     "text": [
      "\t--+---+---+---------\n\tA | B | C | ϕ(A,B,C)\n\t--+---+---+---------\n\t0 | 0 | 0 | 0.1\n\t0 | 0 | 1 | 0.9\n\t0 | 1 | 0 | 0.8\n\t0 | 1 | 1 | 0.2\n\t1 | 0 | 0 | 0.7\n\t1 | 0 | 1 | 0.4\n\t1 | 1 | 0 | 0.5\n\t1 | 1 | 1 | 0.5\n\t--+---+---+---------\nϕ(A=1, B=0, C=0) = 0.7\n"
     ],
     "output_type": "stream"
    }
   ],
   "source": [
    "from collections import namedtuple\n",
    "Factor = namedtuple(\"Factor\", [\"vars\", \"values\"])\n",
    "\n",
    "def print_factor(phi, indent=\"\\t\"):\n",
    "    line = \" | \".join(phi.vars + [\"ϕ(\" + \",\".join(phi.vars) + \")\"])\n",
    "    sep = \"\".join([\"+\" if c == \"|\" else \"-\" for c in list(line)])\n",
    "    print(indent + sep)\n",
    "    print(indent + line)\n",
    "    print(indent +sep)\n",
    "    for values, p in phi.values.items():\n",
    "        print(indent + \" | \".join([str(v) for v in values] + [str(p)]))\n",
    "    print(indent + sep)\n",
    "\n",
    "    \n",
    "# Examples\n",
    "\n",
    "phi_ABC = Factor(vars=[\"A\", \"B\", \"C\"],\n",
    "                 values={(0, 0, 0): .1, (0, 0, 1): .9, (0, 1, 0): .8, (0, 1, 1): .2,\n",
    "                         (1, 0, 0): .7, (1, 0, 1): .4, (1, 1, 0): .5, (1, 1, 1): .5})\n",
    "phi_AB = Factor(vars=[\"A\", \"B\"], values={(0, 0): .1, (0, 1): .9, (1, 0): .8, (1, 1): .2})\n",
    "phi_BC = Factor(vars=[\"B\", \"C\"], values={(0, 0): .2, (0, 1): .8, (1, 0): .5, (1, 1): .5})\n",
    "phi_A = Factor(vars=[\"A\"], values={(0,): .4, (1,): .6})\n",
    "phi_C = Factor(vars=[\"C\"], values={(0,): .6, (1,): .8})\n",
    "\n",
    "print_factor(phi_ABC)\n",
    "print(\"ϕ(A=1, B=0, C=0) = \" + str(phi_ABC.values[(1, 0, 0)]))"
   ]
  },
  {
   "cell_type": "markdown",
   "metadata": {},
   "source": [
    "## Multiplicarea a doi factori\n",
    "\n",
    "Doi factori $\\phi_1$ și $\\phi_2$ se pot multiplica, obținându-se un nou factor ale cărui valori sunt produse ale valorilor din $\\phi_1$ și $\\phi_2$. Dacă $\\phi_1$ este un factor peste ${\\bf X} \\cup {\\bf Y}$, iar $\\phi_2$ este un factor peste ${\\bf Y} \\cup {\\bf Z}$ (${\\bf Y}$ reprezintă mulțimea variabilelor comune celor doi factori), atunci:\n",
    "\n",
    "$$\\phi\\left(X_1, \\ldots\\ X_{N_X}, Y_1, \\ldots Y_{N_Y}, Z_1, \\ldots Z_{N_Z}\\right) = \\phi_1\\left(X_1, \\ldots\\ X_{N_X}, Y_1, \\ldots Y_{N_Y}\\right) \\cdot \\phi_2\\left(Y_1, \\ldots Y_{N_Y}, Z_1, \\ldots Z_{N_Z}\\right)$$\n",
    "\n",
    "De exemplu, fie factorii $\\phi_{AB}$ și $\\phi_{BC}$:\n",
    "\n",
    "    --+---+----------          --+---+----------\n",
    "    A | B | ϕ(A,B)             B | C | ϕ(B,C)\n",
    "    --+---+----------          --+---+----------\n",
    "    0 | 0 | 0.100000   <--     0 | 0 | 0.200000\n",
    "    0 | 1 | 0.900000   !!!     0 | 1 | 0.800000   <--\n",
    "    1 | 0 | 0.800000           1 | 0 | 0.500000\n",
    "    1 | 1 | 0.200000           1 | 1 | 0.500000   !!!\n",
    "    --+---+----------          --+---+----------\n",
    "\n",
    "Factorul nou se creează combinând toate perechile de intrări din $\\phi_{AB}$ și $\\phi_{BC}$ pentru care valorile variabilelor comune (în acest caz, $B$) sunt identice.\n",
    "\n",
    "\t--+---+---+---------\n",
    "\tA | B | C | ϕ(A,B,C)\n",
    "\t--+---+---+---------\n",
    "\t0 | 0 | 0 | 0.020000\n",
    "\t0 | 0 | 1 | 0.080000   <--\n",
    "\t0 | 1 | 0 | 0.450000\n",
    "\t0 | 1 | 1 | 0.450000   !!!\n",
    "\t1 | 0 | 0 | 0.160000\n",
    "\t1 | 0 | 1 | 0.640000\n",
    "\t1 | 1 | 0 | 0.100000\n",
    "\t1 | 1 | 1 | 0.100000\n",
    "\t--+---+---+---------\n",
    "\n",
    "\n",
    "**Cerința 1** : Implementați funcția `multiply` care primește doi factori și întoarce rezultatul înmulțirii celor doi."
   ]
  },
  {
   "cell_type": "code",
   "execution_count": 86,
   "metadata": {
    "pycharm": {
     "is_executing": false
    }
   },
   "outputs": [],
   "source": [
    "# Multiplicarea a doi factori:\n",
    "from copy import deepcopy\n",
    "\n",
    "def multiply(phi1, phi2):\n",
    "    assert isinstance(phi1, Factor) and isinstance(phi2, Factor)\n",
    "   \n",
    "    rez_vars = []\n",
    "    rez_values = {}\n",
    "    comm_vars = list(set(phi1.vars).intersection(set(phi2.vars)))    \n",
    "\n",
    "    if len(comm_vars) > 0:\n",
    "        rez_vars = list(set(phi1.vars + phi2.vars))\n",
    "        for values1, prob1 in phi1.values.items():\n",
    "            d1 = dict(zip(phi1.vars, values1))\n",
    "            \n",
    "            for values2, prob2 in phi2.values.items():\n",
    "                d2 = dict(zip(phi2.vars, values2))\n",
    "                \n",
    "                contine = True\n",
    "                for var in comm_vars:\n",
    "                    if d1[var] != d2[var]:\n",
    "                        contine = False\n",
    "            \n",
    "                if not contine:\n",
    "                    continue\n",
    "                    \n",
    "                values = [] \n",
    "                for var in rez_vars:\n",
    "                    if var in phi1.vars:\n",
    "                        values.append(d1[var])\n",
    "                    elif var in phi2.vars:\n",
    "                        values.append(d2[var])\n",
    "                \n",
    "                rez_values[tuple(values)] = prob1 * prob2      \n",
    "                                   \n",
    "    else:\n",
    "        rez_vars = phi1.vars + phi2.vars\n",
    "        for values1, prob1 in phi1.values.items():\n",
    "            for values2, prob2 in phi2.values.items():\n",
    "                rez_prob = prob1 * prob2\n",
    "                values = values1 + values2\n",
    "                rez_values[values] =rez_prob\n",
    "                \n",
    "    return Factor(vars=rez_vars, values=rez_values)\n"
   ]
  },
  {
   "cell_type": "code",
   "execution_count": 87,
   "metadata": {
    "pycharm": {
     "is_executing": false
    }
   },
   "outputs": [
    {
     "name": "stdout",
     "text": [
      "\t--+---+-------\n\tA | B | ϕ(A,B)\n\t--+---+-------\n\t0 | 0 | 0.1\n\t0 | 1 | 0.9\n\t1 | 0 | 0.8\n\t1 | 1 | 0.2\n\t--+---+-------\n*\n\t--+---+-------\n\tB | C | ϕ(B,C)\n\t--+---+-------\n\t0 | 0 | 0.2\n\t0 | 1 | 0.8\n\t1 | 0 | 0.5\n\t1 | 1 | 0.5\n\t--+---+-------\n=\n\t--+---+---+---------\n\tC | B | A | ϕ(C,B,A)\n\t--+---+---+---------\n\t0 | 0 | 0 | 0.020000000000000004\n\t1 | 0 | 0 | 0.08000000000000002\n\t0 | 1 | 0 | 0.45\n\t1 | 1 | 0 | 0.45\n\t0 | 0 | 1 | 0.16000000000000003\n\t1 | 0 | 1 | 0.6400000000000001\n\t0 | 1 | 1 | 0.1\n\t1 | 1 | 1 | 0.1\n\t--+---+---+---------\n"
     ],
     "output_type": "stream"
    }
   ],
   "source": [
    "print_factor(phi_AB)\n",
    "print(\"*\")\n",
    "print_factor(phi_BC)\n",
    "print(\"=\")\n",
    "print_factor(multiply(phi_AB, phi_BC))"
   ]
  },
  {
   "cell_type": "code",
   "execution_count": 88,
   "metadata": {
    "pycharm": {
     "is_executing": false
    }
   },
   "outputs": [
    {
     "name": "stdout",
     "text": [
      "Testing  ϕ_AB * ϕ_BC ... OK!!\nTesting  ϕ_A * ϕ_BC ... OK!!\nTesting  ϕ_A * ϕ_AB ... OK!!\nTesting  ϕ_BC * ϕ_A ... OK!!\nTesting  ϕ_ABC * ϕ_BC ... OK!!\nTesting  ϕ_C * ϕ_A ... OK!!\nTesting  ϕ_A * ϕ_C ... OK!!\nTesting  ϕ_C * ϕ_C ... OK!!\n\nMultiply seems ok!\n\n"
     ],
     "output_type": "stream"
    }
   ],
   "source": [
    "## Tests for multiply\n",
    "\n",
    "from itertools import permutations\n",
    "from operator import mul\n",
    "from functools import reduce\n",
    "import sys\n",
    "from copy import deepcopy\n",
    "\n",
    "def _check_factor(_phi, all_vars, control):\n",
    "    assert sorted(_phi.vars) == sorted(all_vars), \\\n",
    "        \"Wrong variables: \" + ','.join(_phi.vars) + \" instead of \" + ','.join(all_vars)\n",
    "    assert len(_phi.values) == 2 ** len(all_vars), \\\n",
    "        \"Wrong number of entries in phi.values: \" + str(len(_phi.values))\n",
    "    n = len(all_vars)\n",
    "    if n > 0:\n",
    "        for j in range(n + 1):\n",
    "            vals = [0] * (n - j) + [1] * j\n",
    "            keys = set([p for p in permutations(vals)])\n",
    "            p = reduce(mul, [_phi.values[k] for k in keys])\n",
    "            assert abs(p - control[j]) < 1e-9, \\\n",
    "                \"Values for \" + str(keys) + \" are wrong!\"\n",
    "    else:\n",
    "        assert abs(_phi.values[()] - control[0]) < 1e-9\n",
    "\n",
    "\n",
    "def _test_multiply(name1, name2, all_vars, control, verbose=False):\n",
    "    _phi = eval(\"multiply(deepcopy(phi_\"+name1+\"), deepcopy(phi_\"+name2+\"))\")\n",
    "    if verbose:\n",
    "        print(\"Result of ϕ_\"+name1+\" * ϕ_\"+name2+\":\")\n",
    "        print_factor(_phi)\n",
    "    sys.stdout.write(\"Testing  ϕ_\"+name1+\" * ϕ_\"+name2+\" ... \")\n",
    "    _check_factor(_phi, all_vars, control)\n",
    "    print(\"OK!!\")\n",
    "\n",
    "_test_multiply(\"AB\", \"BC\", [\"A\", \"B\", \"C\"], [.02, .00576, .0288, .1], verbose=False)\n",
    "_test_multiply(\"A\", \"BC\", [\"A\", \"B\", \"C\"], [.08, .00768, .0288, .3])\n",
    "_test_multiply(\"A\", \"AB\", [\"A\", \"B\"], [.04, .1728, .12])\n",
    "_test_multiply(\"BC\", \"A\", [\"C\", \"A\", \"B\"], [.08, .00768, .0288, .3])\n",
    "_test_multiply(\"ABC\", \"BC\", [\"C\", \"A\", \"B\"], [.02, .04032, .008, .25])\n",
    "_test_multiply(\"C\", \"A\", [\"C\", \"A\"], [.24, .1152, .48])\n",
    "_test_multiply(\"A\", \"C\", [\"C\", \"A\"], [.24, .1152, .48])\n",
    "_test_multiply(\"C\", \"C\", [\"C\"], [.36, .64])\n",
    "\n",
    "print(\"\\nMultiply seems ok!\\n\")"
   ]
  },
  {
   "cell_type": "markdown",
   "metadata": {},
   "source": [
    "## Eliminarea unei variabile dintr-un factor prin însumare\n",
    "\n",
    "O variabilă $X_i$ se poate elimina dintr-un factor $\\phi$ prin însumarea tuturor valorilor în care celelalte variabile au aceleași valori. Rezultatul este un nou factor $\\tau$ al cărui context este dat de toate celelate variabile din $\\phi$ în afara lui $X_i$.\n",
    "\n",
    "Notație: $$\\tau \\leftarrow \\sum_{X_i} \\phi$$\n",
    "\n",
    "$$\\tau\\left(X_1, \\ldots X_{i-1}, X_{i+1}, \\ldots, X_N\\right) = \\sum_{x} \\phi \\left(X_1, \\ldots X_{i-1}, X_i= x, X_{i+1}, \\ldots, X_N\\right)$$\n",
    "\n",
    "Prin eliminarea lui $B$ din factorul:\n",
    "```\n",
    "--+---+---+----------\n",
    "A | B | C | ϕ(A,B,C)\n",
    "--+---+---+----------\n",
    "0 | 0 | 0 | 0.100000    !!!\n",
    "0 | 0 | 1 | 0.900000\n",
    "0 | 1 | 0 | 0.800000    !!!\n",
    "0 | 1 | 1 | 0.200000\n",
    "1 | 0 | 0 | 0.700000    <--\n",
    "1 | 0 | 1 | 0.400000\n",
    "1 | 1 | 0 | 0.500000    <--\n",
    "1 | 1 | 1 | 0.500000\n",
    "--+---+---+----------\n",
    "```\n",
    "\n",
    "se obține:\n",
    "\n",
    "```\n",
    "--+---+----------\n",
    "A | C | ϕ(A,C)\n",
    "--+---+----------\n",
    "0 | 0 | 0.900000    !!!\n",
    "0 | 1 | 1.100000\n",
    "1 | 0 | 1.200000    <---\n",
    "1 | 1 | 0.900000\n",
    "--+---+----------\n",
    "```\n",
    "\n",
    "**Cerința 2** : Implementați funcția `sum_out` care primește o variabilă `var` și un factor `phi` și întoarce un factor nou obținut prin eliminarea prin însumare a variabilei `var`."
   ]
  },
  {
   "cell_type": "code",
   "execution_count": 89,
   "metadata": {
    "pycharm": {
     "is_executing": false
    }
   },
   "outputs": [],
   "source": [
    "def sum_out(var, phi):\n",
    "    assert isinstance(phi, Factor) and var in phi.vars\n",
    "    # Cerinta 2:\n",
    "    \n",
    "    rez_vars = deepcopy(phi.vars)\n",
    "    rez_vars.remove(var)\n",
    "    rez_values = {}\n",
    "    index_var = phi.vars.index(var)\n",
    "    \n",
    "    for values, prob in phi.values.items():\n",
    "        _values = list(deepcopy(values))\n",
    "        _values.pop(index_var)\n",
    "        _values = tuple(_values)\n",
    "        \n",
    "        if _values in rez_values:\n",
    "            rez_values[_values] += prob\n",
    "        else:\n",
    "            rez_values[_values] = prob\n",
    "            \n",
    "    return Factor(vars=rez_vars, values=rez_values)"
   ]
  },
  {
   "cell_type": "code",
   "execution_count": 90,
   "metadata": {
    "pycharm": {
     "is_executing": false
    }
   },
   "outputs": [
    {
     "name": "stdout",
     "text": [
      "Însumând B afară din\n\t--+---+---+---------\n\tA | B | C | ϕ(A,B,C)\n\t--+---+---+---------\n\t0 | 0 | 0 | 0.1\n\t0 | 0 | 1 | 0.9\n\t0 | 1 | 0 | 0.8\n\t0 | 1 | 1 | 0.2\n\t1 | 0 | 0 | 0.7\n\t1 | 0 | 1 | 0.4\n\t1 | 1 | 0 | 0.5\n\t1 | 1 | 1 | 0.5\n\t--+---+---+---------\n=\n\t--+---+-------\n\tA | C | ϕ(A,C)\n\t--+---+-------\n\t0 | 0 | 0.9\n\t0 | 1 | 1.1\n\t1 | 0 | 1.2\n\t1 | 1 | 0.9\n\t--+---+-------\n"
     ],
     "output_type": "stream"
    }
   ],
   "source": [
    "# Un exemplu\n",
    "\n",
    "print(\"Însumând B afară din\")\n",
    "print_factor(phi_ABC)\n",
    "print(\"=\")\n",
    "print_factor(sum_out(\"B\", phi_ABC))"
   ]
  },
  {
   "cell_type": "code",
   "execution_count": 91,
   "metadata": {
    "pycharm": {
     "is_executing": false
    }
   },
   "outputs": [
    {
     "name": "stdout",
     "text": [
      "Testing  sum_A ϕ_ABC ... OK!!\nTesting  sum_B ϕ_ABC ... OK!!\nTesting  sum_C ϕ_C ... OK!!\nTesting  sum_A ϕ_A ... OK!!\nTesting  sum_B ϕ_BC ... OK!!\n\nSummations seems ok!\n\n"
     ],
     "output_type": "stream"
    }
   ],
   "source": [
    "## Tests for sum_out\n",
    "\n",
    "def _test_sum_out(var, name, left_vars, control, verbose=False):\n",
    "    import sys\n",
    "    from itertools import permutations\n",
    "    from operator import mul\n",
    "    from functools import reduce\n",
    "    _phi = eval(\"sum_out('\"+var+\"', phi_\"+name+\")\")\n",
    "    if verbose:\n",
    "        print_factor(_phi)\n",
    "    sys.stdout.write(\"Testing  sum_\"+var+\" ϕ_\"+name+\" ... \")\n",
    "    _check_factor(_phi, left_vars, control)\n",
    "    print(\"OK!!\")\n",
    "\n",
    "_test_sum_out(\"A\", \"ABC\", [\"C\", \"B\"], [.8, 1.69, .7], verbose=False)\n",
    "_test_sum_out(\"B\", \"ABC\", [\"A\", \"C\"], [.9, 1.32, .9], verbose=False)\n",
    "_test_sum_out(\"C\", \"C\", [], [1.4], verbose=False)\n",
    "_test_sum_out(\"A\", \"A\", [], [1.], verbose=False)\n",
    "_test_sum_out(\"B\", \"BC\", [\"C\"], [.7, 1.3], verbose=False)\n",
    "\n",
    "print(\"\\nSummations seems ok!\\n\")"
   ]
  },
  {
   "cell_type": "markdown",
   "metadata": {},
   "source": [
    "## Eliminarea unei variabile dintr-o mulțime de factori\n",
    "\n",
    "Dându-se o mulțime de factori $\\Phi$, eliminați variabila $X$. Operația se face prin înlocuirea tuturor factorilor care conțin variabila $X$ cu unul obținut prin (1) factorizare și apoi (2) însumare.\n",
    "\n",
    "`prod_sum(`$\\Phi$ `, ` $X$ `)`\n",
    " - $\\Phi_{X} \\leftarrow \\left\\lbrace \\phi \\in \\Phi \\,:\\, X \\in \\phi \\right\\rbrace$\n",
    " - $\\omega \\leftarrow \\prod_{\\phi \\in \\Phi_{X}} \\phi$\n",
    " - $\\tau \\leftarrow \\sum_{X} \\omega$\n",
    " - `return` $\\Phi \\setminus \\Phi_{X} \\cup \\left\\lbrace \\tau \\right\\rbrace$\n",
    "\n",
    "**Cerința 3** : Implementați funcția `prod_sum` care primește o variabilă `var` și o listă de factori și întoarce noua listă de factori obținută prin eliminarea variabilei `var`. Dacă `verbose` este `True`, atunci afișați factorul nou construit (e util mai târziu pentru a urmări pașii algoritmului)."
   ]
  },
  {
   "cell_type": "code",
   "execution_count": 92,
   "metadata": {
    "pycharm": {
     "is_executing": false
    }
   },
   "outputs": [],
   "source": [
    "def prod_sum(var, Phi, verbose=False):\n",
    "    assert isinstance(var, str) and all([isinstance(phi, Factor) for phi in Phi])\n",
    "    # Cerinta 3:\n",
    "    \n",
    "    Phi_rez = []\n",
    "    Phi_var = []\n",
    "    \n",
    "    for p in Phi:\n",
    "        if var in p.vars:\n",
    "            Phi_var.append(p)\n",
    "        else:\n",
    "            Phi_rez.append(p)\n",
    "    \n",
    "    new_factor = Phi_var.pop(0)\n",
    "    for factor in Phi_var:\n",
    "        new_factor = multiply(new_factor, factor)\n",
    "    \n",
    "    new_factor = sum_out(var, new_factor)\n",
    "    Phi_rez.append(new_factor)\n",
    "    if verbose:\n",
    "        print_factor(new_factor)\n",
    "    \n",
    "    return Phi_rez"
   ]
  },
  {
   "cell_type": "code",
   "execution_count": 93,
   "metadata": {
    "pycharm": {
     "is_executing": false
    }
   },
   "outputs": [
    {
     "name": "stdout",
     "text": [
      "Elininând B din :\n\t--+---+-------\n\tA | B | ϕ(A,B)\n\t--+---+-------\n\t0 | 0 | 0.1\n\t0 | 1 | 0.9\n\t1 | 0 | 0.8\n\t1 | 1 | 0.2\n\t--+---+-------\nși\n\t--+---+-------\n\tB | C | ϕ(B,C)\n\t--+---+-------\n\t0 | 0 | 0.2\n\t0 | 1 | 0.8\n\t1 | 0 | 0.5\n\t1 | 1 | 0.5\n\t--+---+-------\n=>\n\t--+---+-------\n\tC | A | ϕ(C,A)\n\t--+---+-------\n\t0 | 0 | 0.47000000000000003\n\t1 | 0 | 0.53\n\t0 | 1 | 0.26\n\t1 | 1 | 0.7400000000000001\n\t--+---+-------\n"
     ],
     "output_type": "stream"
    }
   ],
   "source": [
    "# Un exemplu\n",
    "print(\"Elininând B din :\")\n",
    "print_factor(phi_AB)\n",
    "print(\"și\")\n",
    "print_factor(phi_BC)\n",
    "print(\"=>\")\n",
    "print_factor(prod_sum(\"B\", [phi_AB, phi_BC])[0])"
   ]
  },
  {
   "cell_type": "code",
   "execution_count": 94,
   "metadata": {
    "pycharm": {
     "is_executing": false
    }
   },
   "outputs": [
    {
     "name": "stdout",
     "text": [
      "Testing prod-sum (I) ... OK!\nTesting prod-sum (II) ... OK!\nProd-Sum seems ok!\n"
     ],
     "output_type": "stream"
    }
   ],
   "source": [
    "## Test prod_sum\n",
    "\n",
    "sys.stdout.write(\"Testing prod-sum (I) ... \")\n",
    "result = prod_sum(\"B\", [deepcopy(_phi) for _phi in [phi_A, phi_C, phi_ABC, phi_BC]])\n",
    "assert len(result) == 3\n",
    "for _phi in result:\n",
    "    if sorted(_phi.vars) == [\"A\", \"C\"]:\n",
    "        assert abs(_phi.values[(0, 0)] - 0.42) < 1e-9\n",
    "        assert abs(_phi.values[(0, 1)] * _phi.values[(1, 0)] - 0.3198) < 1e-9\n",
    "        assert abs(_phi.values[(1, 1)] - 0.57) < 1e-9\n",
    "    elif sorted(_phi.vars) == [\"A\"]:\n",
    "        assert abs(_phi.values[(0,)] - 0.4) < 1e-9\n",
    "        assert abs(_phi.values[(1,)] - 0.6) < 1e-9\n",
    "    elif sorted(_phi.vars) == [\"C\"]:\n",
    "        assert abs(_phi.values[(0,)] - 0.6) < 1e-9\n",
    "        assert abs(_phi.values[(1,)] - 0.8) < 1e-9\n",
    "print(\"OK!\")\n",
    "\n",
    "sys.stdout.write(\"Testing prod-sum (II) ... \")\n",
    "result = prod_sum(\"A\", [deepcopy(_phi) for _phi in [phi_A, phi_C, phi_ABC, phi_BC]])\n",
    "assert len(result) == 3\n",
    "for _phi in result:\n",
    "    if sorted(_phi.vars) == [\"B\", \"C\"]:\n",
    "        assert abs(_phi.values[(0, 0)] - 0.2) < 1e-9 or abs(_phi.values[(0, 0)] - 0.46) < 1e-9\n",
    "        assert abs(_phi.values[(0, 1)] * _phi.values[(1, 0)] - 0.4) < 1e-9 or \\\n",
    "               abs(_phi.values[(0, 1)] * _phi.values[(1, 0)] - 0.372) < 1e-9\n",
    "        assert abs(_phi.values[(1, 1)] - 0.5) < 1e-9 or abs(_phi.values[(1, 1)] - 0.38) < 1e-9\n",
    "    elif sorted(_phi.vars) == [\"C\"]:\n",
    "        assert abs(_phi.values[(0,)] - 0.6) < 1e-9\n",
    "        assert abs(_phi.values[(1,)] - 0.8) < 1e-9\n",
    "print(\"OK!\")\n",
    "print(\"Prod-Sum seems ok!\")"
   ]
  },
  {
   "cell_type": "markdown",
   "metadata": {},
   "source": [
    "## Eliminarea variabilelor\n",
    "\n",
    "Dându-se o mulțime de factori $\\Phi$ și o mulțime de variabile de eliminat $\\bf{Z}$, să se construiască factorul obținut după eliminarea tuturor variabilelor $Z_i$.\n",
    "\n",
    "`variable_elimination(` $\\Phi$ `,` ${\\bf Z}$ `)`\n",
    " - `for` $Z_i \\in {\\bf Z}$:\n",
    "   - $\\Phi \\leftarrow $ `prod_sum(` $Z_i$ `,` $\\Phi$ `)`\n",
    " - `return` $\\prod_{\\phi \\in \\Phi} \\phi$\n",
    " \n",
    "Ordinea în care se iau variabilele din ${\\bf Z}$ poate infleunța eficiența algoritmului. (Vezi BONUS.)\n",
    "\n",
    "** Cerința 4 ** : Implementați funcția `variable_elimination`. Aceasta trebuie să întoarcă un singur factor. Folosiți argumentul `verbose` și în apelurile funcției `prod_sum`."
   ]
  },
  {
   "cell_type": "code",
   "execution_count": 95,
   "metadata": {
    "pycharm": {
     "is_executing": false
    }
   },
   "outputs": [],
   "source": [
    "def variable_elimination(Phi, Z, verbose=False):\n",
    "    # Cerinta 4:\n",
    "    new_Phi = deepcopy(Phi)\n",
    "    \n",
    "    for z in Z:\n",
    "        new_Phi = prod_sum(z, new_Phi, verbose)\n",
    "            \n",
    "    phi = new_Phi.pop(0)\n",
    "    for p in new_Phi:\n",
    "        phi = multiply(phi, p)\n",
    "    \n",
    "    if verbose:\n",
    "        print_factor(phi)\n",
    "    return phi"
   ]
  },
  {
   "cell_type": "code",
   "execution_count": 96,
   "metadata": {
    "pycharm": {
     "is_executing": false
    }
   },
   "outputs": [
    {
     "name": "stdout",
     "text": [
      "Testing  eliminate_var [\"C\"] from [ϕ_A,ϕ_C] ... OK!!\nTesting  eliminate_var [\"C\", \"B\"] from [ϕ_ABC,ϕ_BC,ϕ_AB,ϕ_A] ... OK!!\nTesting  eliminate_var [\"C\", \"B\", \"A\"] from [ϕ_ABC,ϕ_BC,ϕ_AB,ϕ_A] ... OK!!\nTesting  eliminate_var [\"A\", \"B\", \"C\"] from [ϕ_ABC,ϕ_AB,ϕ_BC,ϕ_A] ... OK!!\nTesting  eliminate_var [\"A\", \"B\", \"C\"] from [ϕ_ABC] ... OK!!\n"
     ],
     "output_type": "stream"
    }
   ],
   "source": [
    "## Testing Variable elimination\n",
    "\n",
    "def _test_variable_elimination(Phi, Vars, left_vars, control, verbose=False):\n",
    "\n",
    "    \n",
    "    var_list = '[\"' + '\", \"'.join(Vars) + '\"]'\n",
    "    factor_list = '[' + ','.join([(\"deepcopy(phi_\"+name + \")\") for name in Phi]) +']'\n",
    "    name_list = '[' + ','.join([(\"ϕ_\"+name) for name in Phi]) +']'\n",
    "    _phi = eval(\"variable_elimination(\"+factor_list+\", \"+var_list+\")\")\n",
    "    if verbose:\n",
    "        print_factor(_phi)\n",
    "    sys.stdout.write(\"Testing  eliminate_var \"+var_list+\" from \"+name_list+\" ... \")\n",
    "    _check_factor(_phi, left_vars, control)\n",
    "    print(\"OK!!\")\n",
    "\n",
    "_test_variable_elimination([\"A\", \"C\"], [\"C\"], [\"A\"], [0.56, 0.84])\n",
    "_test_variable_elimination([\"ABC\", \"BC\", \"AB\", \"A\"], [\"C\", \"B\"], [\"A\"], [0.2096, 0.2808])\n",
    "_test_variable_elimination([\"ABC\", \"BC\", \"AB\", \"A\"], [\"C\", \"B\", \"A\"], [], [0.4904])\n",
    "_test_variable_elimination([\"ABC\", \"AB\", \"BC\", \"A\"], [\"A\", \"B\", \"C\"], [], [0.4904])\n",
    "_test_variable_elimination([\"ABC\"], [\"A\", \"B\", \"C\"], [], [4.1])\n"
   ]
  },
  {
   "cell_type": "markdown",
   "metadata": {},
   "source": [
    "## Reducerea factorilor conform observațiilor\n",
    "\n",
    "**Cerința 5** : Reduceți factorii eliminanând intrările ce nu corespund observațiilor făcute. Implementați funcția `coniditon_factors` care primește o listă de factori `Phi`, un dicțonar de observații și întoarce o listă nouă în care factorii ce conțin variabile din `Z` sunt reduși la liniile conforme cu observațiile făcute."
   ]
  },
  {
   "cell_type": "code",
   "execution_count": 97,
   "metadata": {
    "pycharm": {
     "is_executing": false
    }
   },
   "outputs": [],
   "source": [
    "def condition_factors(Phi, Z, verbose=False):\n",
    "    # Cerinta 5\n",
    "    new_Phi = []\n",
    "    \n",
    "    for phi in Phi:\n",
    "        new_vars = deepcopy(phi.vars)\n",
    "        new_values = {}\n",
    "        for v, p in phi.values.items():\n",
    "            d = dict(zip(phi.vars, v))\n",
    "            \n",
    "            ok = True\n",
    "            for z in Z.keys():\n",
    "                if z in phi.vars:\n",
    "                    if Z[z] != d[z]:\n",
    "                        ok = False\n",
    "            if ok:        \n",
    "                new_values[tuple(v)] = p\n",
    "                    \n",
    "        new_Phi.append(Factor(vars=new_vars, values=new_values))    \n",
    "    \n",
    "    return new_Phi"
   ]
  },
  {
   "cell_type": "code",
   "execution_count": 98,
   "metadata": {
    "pycharm": {
     "is_executing": false
    }
   },
   "outputs": [
    {
     "name": "stdout",
     "text": [
      "Aplicand B=0 in factorul\n\t--+---+---+---------\n\tA | B | C | ϕ(A,B,C)\n\t--+---+---+---------\n\t0 | 0 | 0 | 0.1\n\t0 | 0 | 1 | 0.9\n\t0 | 1 | 0 | 0.8\n\t0 | 1 | 1 | 0.2\n\t1 | 0 | 0 | 0.7\n\t1 | 0 | 1 | 0.4\n\t1 | 1 | 0 | 0.5\n\t1 | 1 | 1 | 0.5\n\t--+---+---+---------\n=>\n\t--+---+---+---------\n\tA | B | C | ϕ(A,B,C)\n\t--+---+---+---------\n\t0 | 0 | 0 | 0.1\n\t0 | 0 | 1 | 0.9\n\t1 | 0 | 0 | 0.7\n\t1 | 0 | 1 | 0.4\n\t--+---+---+---------\n"
     ],
     "output_type": "stream"
    }
   ],
   "source": [
    "# Un exemplu\n",
    "print(\"Aplicand B=0 in factorul\")\n",
    "print_factor(phi_ABC)\n",
    "print(\"=>\")\n",
    "print_factor(condition_factors([phi_ABC], {\"B\": 0})[0])"
   ]
  },
  {
   "cell_type": "code",
   "execution_count": 99,
   "metadata": {
    "pycharm": {
     "is_executing": false
    }
   },
   "outputs": [
    {
     "name": "stdout",
     "text": [
      "Condition factors seems ok!\n"
     ],
     "output_type": "stream"
    }
   ],
   "source": [
    "# Teste pentru condition_factors\n",
    "\n",
    "phi_ABC = Factor(vars=[\"A\", \"B\", \"C\"],\n",
    "                 values={(0, 0, 0): .1, (0, 0, 1): .9, (0, 1, 0): .8, (0, 1, 1): .2,\n",
    "                         (1, 0, 0): .7, (1, 0, 1): .4, (1, 1, 0): .5, (1, 1, 1): .5})\n",
    "\n",
    "_phi = condition_factors([phi_ABC], {\"B\": 0})[0]\n",
    "assert sorted(_phi.vars) == [\"A\", \"B\", \"C\"]\n",
    "assert len(_phi.values) == 4 and abs(_phi.values[(0, 0, 0)] - .1) < 1e-7\n",
    "_phi = condition_factors([phi_ABC], {\"B\": 0, \"A\": 1})[0]\n",
    "assert sorted(_phi.vars) == [\"A\", \"B\", \"C\"] and len(_phi.values) == 2\n",
    "print(\"Condition factors seems ok!\")"
   ]
  },
  {
   "cell_type": "markdown",
   "metadata": {},
   "source": [
    "## Realizarea inferențelor în Rețele Bayesiene\n",
    "\n",
    "$$P\\left({\\bf Y} \\vert {\\bf Z} = {\\bf z}\\right) = \\frac{P\\left({\\bf Y}, {\\bf Z} = {\\bf z}\\right)}{P\\left(\\bf{Z = z}\\right)}$$\n",
    "\n",
    "Realizarea inferențelor de tipul generic de mai sus se face în următorii pași:\n",
    "\n",
    " - tabelele cu distribuțiile condiționate sunt transformate în factori\n",
    " - factorii ce conțin variabile din ${\\bf Z}$ sunt reduși la liniile care respectă ${\\bf Z} = {\\bf z}$\n",
    " - fie $\\Phi$ mulțimea factorilor astfel obținuți\n",
    " - fie $\\phi_{YZ}$ factorul obținut prin eliminarea tuturor celorlalte variabile:\n",
    "\n",
    "     * $\\phi_{YZ} \\leftarrow $ `var_elimination` $\\left(\\Phi, {\\bf X} \\setminus \\left({\\bf Y} \\cup {\\bf Z}\\right)\\right)$\n",
    " - atunci $$P({\\bf Y} = {\\bf y}| {\\bf Z}= {\\bf z}) = \\frac{\\phi_{YZ}({\\bf Y}={\\bf y})}{\\sum_{{\\bf Y}} \\phi_{YZ}}$$\n"
   ]
  },
  {
   "cell_type": "code",
   "execution_count": 100,
   "metadata": {
    "pycharm": {
     "is_executing": false
    }
   },
   "outputs": [],
   "source": [
    "from random import shuffle\n",
    "\n",
    "def query(X, Y, Z, Phi, Other=None, verbose=False):\n",
    "    \"\"\"\n",
    "    X - full list of variables\n",
    "    Y - query variables\n",
    "    Z - dictionary with observations\n",
    "    Phi - the list with all factor\n",
    "    Ohter - an order over variables in X \\ (Y U Z); None to pick a random one\n",
    "    verbose - display factors as they are created\n",
    "    \"\"\"\n",
    "\n",
    "    if verbose:\n",
    "        print(\"\\n-------------\\nInitial factors:\")\n",
    "        for phi in Phi:\n",
    "            print_factor(phi)\n",
    "\n",
    "    Phi = condition_factors(Phi, Z, verbose=verbose)  # Condition factors on Z=z\n",
    "\n",
    "    if Other is None:\n",
    "        Other = [x for x in X if (x not in Y and x not in Z)]  # Variables that need to be eliminated\n",
    "        shuffle(Other)\n",
    "    else:\n",
    "        assert sorted(Other) == sorted([x for x in X if (x not in Y and x not in Z)])\n",
    "    if verbose:\n",
    "        print(\"\\n-------------\\nEliminating variables in the following order: \" + \",\".join(Other))\n",
    "\n",
    "    phi = variable_elimination(Phi, Other, verbose=verbose)  # Eliminate other variables then Y and Z\n",
    "    \n",
    "    # Normalize factor to represent the conditional probability p(Y|Z=z)\n",
    "    s = sum(phi.values.values())\n",
    "    prob = Factor(vars=phi.vars, values={k: v / s for (k, v) in phi.values.items()})\n",
    "    print(\"\\n-----------------\\nProbabilitatea ceruta:\")\n",
    "    print_factor(prob)\n"
   ]
  },
  {
   "cell_type": "markdown",
   "metadata": {
    "collapsed": true
   },
   "source": [
    "## Exemplu\n",
    "\n",
    "Urmăriți exemplul din PDF-ul atașat."
   ]
  },
  {
   "cell_type": "code",
   "execution_count": 101,
   "metadata": {
    "pycharm": {
     "is_executing": false
    }
   },
   "outputs": [],
   "source": [
    "phi_a = Factor(vars=[\"A\"], values={(0,): .7, (1,): .3})\n",
    "phi_b = Factor(vars=[\"B\"], values={(0,): .5, (1,): .5})\n",
    "phi_c = Factor(vars=[\"C\"], values={(0,): .4, (1,): .6})\n",
    "\n",
    "phi_d = Factor(vars=[\"A\", \"B\", \"D\"],\n",
    "               values={(0, 0, 0): .75, (0, 0, 1): .25, (0, 1, 0): .7, (0, 1, 1): .3,\n",
    "                       (1, 0, 0): .6, (1, 0, 1): .4, (1, 1, 0): .2, (1, 1, 1): .8\n",
    "                      })\n",
    "phi_e = Factor(vars=[\"C\", \"E\"],\n",
    "               values={(0, 0): .25, (0, 1): .75, (1, 0): .75, (1, 1): .25})\n",
    "\n",
    "phi_f = Factor(vars=[\"A\", \"D\", \"F\"],\n",
    "               values={(0, 0, 0): .6, (0, 0, 1): .4, (0, 1, 0): .4, (0, 1, 1): .6,\n",
    "                       (1, 0, 0): .7, (1, 0, 1): .3, (1, 1, 0): .8, (1, 1, 1): .2\n",
    "                      })\n",
    "phi_g = Factor(vars=[\"D\", \"E\", \"G\"],\n",
    "               values={(0, 0, 0): .1, (0, 0, 1): .9, (0, 1, 0): .2, (0, 1, 1): .8,\n",
    "                       (1, 0, 0): .5, (1, 0, 1): .5, (1, 1, 0): .4, (1, 1, 1): .6\n",
    "                      })\n",
    "\n",
    "all_vars = [\"A\", \"B\", \"C\", \"D\", \"E\", \"F\", \"G\"]\n",
    "Phi = [phi_a, phi_b, phi_c, phi_d, phi_e, phi_f, phi_g]"
   ]
  },
  {
   "cell_type": "code",
   "execution_count": 102,
   "metadata": {
    "pycharm": {
     "is_executing": false
    }
   },
   "outputs": [
    {
     "name": "stdout",
     "text": [
      "\n-----------------\nProbabilitatea ceruta:\n\t--+---+---+---------\n\tD | F | A | ϕ(D,F,A)\n\t--+---+---+---------\n\t1 | 0 | 0 | 0.39999999999999997\n\t1 | 1 | 0 | 0.6\n\t--+---+---+---------\n\n-----------------\nProbabilitatea ceruta:\n\t--+---+---+---------\n\tD | E | G | ϕ(D,E,G)\n\t--+---+---+---------\n\t0 | 1 | 0 | 0.2\n\t0 | 1 | 1 | 0.8\n\t--+---+---+---------\n"
     ],
     "output_type": "stream"
    }
   ],
   "source": [
    "# Algoritmul ar trebui să ajungă la probabilitățile din tabele\n",
    "\n",
    "# Verificati ca algoritmul \"ajunge\" corect la valorile din tabele\n",
    "query(all_vars, [\"F\"], {\"A\": 0, \"D\": 1}, Phi)\n",
    "query(all_vars, [\"G\"], {\"D\": 0, \"E\": 1}, Phi)"
   ]
  },
  {
   "cell_type": "code",
   "execution_count": 103,
   "metadata": {
    "pycharm": {
     "is_executing": false
    }
   },
   "outputs": [
    {
     "name": "stdout",
     "text": [
      "\n-------------\nInitial factors:\n\t--+-----\n\tA | ϕ(A)\n\t--+-----\n\t0 | 0.7\n\t1 | 0.3\n\t--+-----\n\t--+-----\n\tB | ϕ(B)\n\t--+-----\n\t0 | 0.5\n\t1 | 0.5\n\t--+-----\n\t--+-----\n\tC | ϕ(C)\n\t--+-----\n\t0 | 0.4\n\t1 | 0.6\n\t--+-----\n\t--+---+---+---------\n\tA | B | D | ϕ(A,B,D)\n\t--+---+---+---------\n\t0 | 0 | 0 | 0.75\n\t0 | 0 | 1 | 0.25\n\t0 | 1 | 0 | 0.7\n\t0 | 1 | 1 | 0.3\n\t1 | 0 | 0 | 0.6\n\t1 | 0 | 1 | 0.4\n\t1 | 1 | 0 | 0.2\n\t1 | 1 | 1 | 0.8\n\t--+---+---+---------\n\t--+---+-------\n\tC | E | ϕ(C,E)\n\t--+---+-------\n\t0 | 0 | 0.25\n\t0 | 1 | 0.75\n\t1 | 0 | 0.75\n\t1 | 1 | 0.25\n\t--+---+-------\n\t--+---+---+---------\n\tA | D | F | ϕ(A,D,F)\n\t--+---+---+---------\n\t0 | 0 | 0 | 0.6\n\t0 | 0 | 1 | 0.4\n\t0 | 1 | 0 | 0.4\n\t0 | 1 | 1 | 0.6\n\t1 | 0 | 0 | 0.7\n\t1 | 0 | 1 | 0.3\n\t1 | 1 | 0 | 0.8\n\t1 | 1 | 1 | 0.2\n\t--+---+---+---------\n\t--+---+---+---------\n\tD | E | G | ϕ(D,E,G)\n\t--+---+---+---------\n\t0 | 0 | 0 | 0.1\n\t0 | 0 | 1 | 0.9\n\t0 | 1 | 0 | 0.2\n\t0 | 1 | 1 | 0.8\n\t1 | 0 | 0 | 0.5\n\t1 | 0 | 1 | 0.5\n\t1 | 1 | 0 | 0.4\n\t1 | 1 | 1 | 0.6\n\t--+---+---+---------\n\n-------------\nEliminating variables in the following order: E,B,A,D\n\t--+---+---+---------\n\tC | D | G | ϕ(C,D,G)\n\t--+---+---+---------\n\t0 | 0 | 0 | 0.17500000000000002\n\t0 | 1 | 0 | 0.42500000000000004\n\t1 | 0 | 0 | 0.125\n\t1 | 1 | 0 | 0.475\n\t--+---+---+---------\n\t--+---+-------\n\tD | A | ϕ(D,A)\n\t--+---+-------\n\t0 | 0 | 0.725\n\t1 | 0 | 0.275\n\t0 | 1 | 0.4\n\t1 | 1 | 0.6000000000000001\n\t--+---+-------\n\t--+---+-------\n\tD | F | ϕ(D,F)\n\t--+---+-------\n\t0 | 0 | 0.3885\n\t0 | 1 | 0.239\n\t1 | 0 | 0.22100000000000003\n\t1 | 1 | 0.15150000000000002\n\t--+---+-------\n\t--+---+---+---------\n\tC | F | G | ϕ(C,F,G)\n\t--+---+---+---------\n\t0 | 0 | 0 | 0.16191250000000001\n\t0 | 1 | 0 | 0.10621250000000002\n\t1 | 0 | 0 | 0.15353750000000002\n\t1 | 1 | 0 | 0.10183750000000001\n\t--+---+---+---------\n\t--+---+---+---------\n\tC | F | G | ϕ(C,F,G)\n\t--+---+---+---------\n\t0 | 0 | 0 | 0.064765\n\t0 | 1 | 0 | 0.04248500000000001\n\t1 | 0 | 0 | 0.09212250000000001\n\t1 | 1 | 0 | 0.061102500000000004\n\t--+---+---+---------\n\n-----------------\nProbabilitatea ceruta:\n\t--+---+---+---------\n\tC | F | G | ϕ(C,F,G)\n\t--+---+---+---------\n\t0 | 0 | 0 | 0.2486419042134562\n\t0 | 1 | 0 | 0.16310586428639987\n\t1 | 0 | 0 | 0.35367117765620504\n\t1 | 1 | 0 | 0.23458105384393896\n\t--+---+---+---------\n"
     ],
     "output_type": "stream"
    }
   ],
   "source": [
    "# Exemplul din PDF-ul atașat\n",
    "\n",
    "query(all_vars, [\"C\", \"F\"], {\"G\": 0}, Phi, Other=[\"E\", \"B\", \"A\", \"D\"], verbose=True)\n"
   ]
  }
 ],
 "metadata": {
  "kernelspec": {
   "name": "pycharm-9a468d3e",
   "language": "python",
   "display_name": "PyCharm (Laborator)"
  },
  "language_info": {
   "codemirror_mode": {
    "name": "ipython",
    "version": 3
   },
   "file_extension": ".py",
   "mimetype": "text/x-python",
   "name": "python",
   "nbconvert_exporter": "python",
   "pygments_lexer": "ipython3",
   "version": "3.6.7"
  },
  "pycharm": {
   "stem_cell": {
    "cell_type": "raw",
    "source": [],
    "metadata": {
     "collapsed": false
    }
   }
  }
 },
 "nbformat": 4,
 "nbformat_minor": 2
}