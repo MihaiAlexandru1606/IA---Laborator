{
 "cells": [
  {
   "cell_type": "markdown",
   "metadata": {},
   "source": [
    "# Laboratorul 3: Satisfacerea parțială a restricțiilor\n",
    " - Tudor Berariu\n",
    " - Andrei Olaru"
   ]
  },
  {
   "cell_type": "code",
   "execution_count": 22,
   "metadata": {
    "pycharm": {
     "is_executing": false
    }
   },
   "outputs": [],
   "source": [
    "from copy import copy, deepcopy\n",
    "from itertools import combinations\n",
    "\n",
    "import operator\n",
    "from functools import reduce"
   ]
  },
  {
   "cell_type": "markdown",
   "metadata": {},
   "source": [
    "## O problemă de satisfacere a restricțiilor\n",
    "\n",
    "O **problemă de satisfacere a restricțiilor** este definită de:\n",
    " - o mulțime discretă de **variabile**\n",
    " - câte un **domeniu de valori** pentru fiecare variabilă\n",
    " - un set de **constrângeri** impuse asupra unor grupuri de variabile\n",
    " \n",
    "Vom reprezenta în Python cele de mai sus astfel:\n",
    " - fiecare variabilă va fi reprezentată printr-un șir de caractere\n",
    "\n",
    "```\n",
    "Vars = [\"A\", \"B\", \"C\"]\n",
    "```\n",
    " - mulțimea domeniilor va fi un dicționar având câte o intrare pentru fiecare variabilă:\n",
    "    + cheie va fi numele variabilei\n",
    "    + valoare va fi domeniul de valori al acelei variabile\n",
    "\n",
    "```\n",
    "Domains = {\"A\": [1, 2, 3], \"B\": [1, 5, 9], \"C\": [-2, -1]}\n",
    "```\n",
    " - o constrângere va fi reprezentată printr-un tuplu format din:\n",
    "    + lista de variabile implicată în constrângere\n",
    "    + o funcție anonimă care întoarce `True` sau `False`\n",
    "\n",
    "```\n",
    "Constraints = [([\"A\", \"B\", \"C\"], lambda a, b, c: a + b + c == 0)]\n",
    "```\n",
    "\n",
    "Vom reprezenta o **soluție** printr-un dicționar ce indică o valoare pentru fiecare variabilă (e.g. `{\"A\": 1, \"B\": 1, \"C\" -2}`) și vom defini **costul** ca fiind egal cu numărul de constrângeri încălcate de acea soluție."
   ]
  },
  {
   "cell_type": "code",
   "execution_count": 23,
   "metadata": {
    "pycharm": {
     "is_executing": false
    }
   },
   "outputs": [],
   "source": [
    "VarsA = [\"A\", \"B\", \"C\", \"D\", \"E\"]\n",
    "DomainsA = {v: [i for i in range(10)] for v in VarsA}\n",
    "ConstraintsA = [(list(p), lambda x,y: x != y) for p in combinations(VarsA, 2)] # toate valorile diferite\n",
    "ConstraintsA.append(([\"A\",\"B\"], lambda a, b: a + b == 10))\n",
    "ConstraintsA.append(([\"B\",\"D\"], lambda b, d: b + d == 6))\n",
    "ConstraintsA.append(([\"C\"], lambda c: c < 5))\n",
    "ConstraintsA.append(([\"A\"], lambda a: a > 5))\n",
    "ConstraintsA.append(([\"A\",\"B\",\"C\",\"D\",\"E\"], lambda a, b, c, d, e: a + b + c + d + e == 30))\n",
    "MathProblem = {\"Vars\": VarsA, \"Domains\": DomainsA, \"Constraints\": ConstraintsA}"
   ]
  },
  {
   "cell_type": "code",
   "execution_count": 24,
   "metadata": {
    "pycharm": {
     "is_executing": false
    }
   },
   "outputs": [],
   "source": [
    "VarsC = [\"France\", \"Germany\", \"Loux\", \"Belgium\", \"Netherlands\"]\n",
    "DomainsC = {v: [\"blue\", \"red\", \"yellow\", \"green\"] for v in VarsC}\n",
    "ConstraintsC = []\n",
    "for (a, b) in [(\"France\", \"Germany\"), (\"France\", \"Belgium\"), (\"France\", \"Loux\"),\n",
    "               (\"Belgium\", \"Netherlands\"), (\"Belgium\", \"Loux\"), (\"Belgium\", \"Germany\"),\n",
    "               (\"Loux\", \"Germany\"), (\"Netherlands\", \"Germany\")]:\n",
    "    ConstraintsC.append(([a, b], lambda a, b: a != b))\n",
    "ColoringProblem = {\"Vars\": VarsC, \"Domains\": DomainsC, \"Constraints\": ConstraintsC}"
   ]
  },
  {
   "cell_type": "markdown",
   "metadata": {},
   "source": [
    "## Cerința 1\n",
    "\n",
    "Implementați funcția `get_constraints` care primește o variabilă `var` și o listă de constrângeri `constraints` și întoarce doar acele constrângeri care implică variabila dată.\n",
    "```\n",
    "Constraints = [([\"A\", \"B\"], lambda a,b: a<b), ([\"A\"], lambda a: a<5)]\n",
    "get_constraints(\"B\", Constraints)\n",
    "==> [([\"A\", \"B\"], lambda a,b: a<b)]\n",
    "get_constraints(\"A\", Constraints)\n",
    "==> [([\"A\", \"B\"], lambda a,b: a<b), ([\"A\"], lambda a: a<5)]\n",
    "```"
   ]
  },
  {
   "cell_type": "code",
   "execution_count": 25,
   "metadata": {
    "pycharm": {
     "is_executing": false
    }
   },
   "outputs": [
    {
     "data": {
      "text/plain": "[(['France', 'Germany'], <function __main__.<lambda>(a, b)>),\n (['France', 'Belgium'], <function __main__.<lambda>(a, b)>),\n (['France', 'Loux'], <function __main__.<lambda>(a, b)>)]"
     },
     "metadata": {},
     "output_type": "execute_result",
     "execution_count": 25
    }
   ],
   "source": [
    "def get_constraints(var, constraints):\n",
    "    return list(filter(lambda x : var in x[0], constraints))\n",
    "\n",
    "get_constraints(\"France\", ConstraintsC) # => [(['France', 'Germany'], ...), (['France', 'Belgium'], ...), (['France', 'Loux'], ...)]"
   ]
  },
  {
   "cell_type": "markdown",
   "metadata": {},
   "source": [
    "## Cerința 2\n",
    "\n",
    "Implementați funcția `fixed_constraints` care primește o soluție parțială `solution` și un set de constrângeri `constraints` și întoarce doar acele constrângeri care pot fi evaluate (i.e. variabilele implicate se regăsesc în soluția parțială)."
   ]
  },
  {
   "cell_type": "code",
   "execution_count": 26,
   "metadata": {
    "pycharm": {
     "is_executing": false
    }
   },
   "outputs": [
    {
     "name": "stdout",
     "text": [
      "[(['France', 'Belgium'], <function <lambda> at 0x06752300>)]\n[(['A', 'C'], <function <listcomp>.<lambda> at 0x06752A50>), (['C'], <function <lambda> at 0x067526A8>), (['A'], <function <lambda> at 0x06752660>)]\n"
     ],
     "output_type": "stream"
    }
   ],
   "source": [
    "def fixed_constraints(solution, constraints):\n",
    "    return list(filter(lambda x : all(elem in solution.keys() for elem in x[0]) , constraints))\n",
    "\n",
    "print(fixed_constraints({\"France\": \"blue\", \"Belgium\": \"green\"}, ConstraintsC)) # => [(['France', 'Belgium'], ...)]\n",
    "print(fixed_constraints({\"A\": \"1\", \"C\": \"2\"}, ConstraintsA)) # => [(['A', 'C'], ...), (['C'], ...), (['A'], ...)]"
   ]
  },
  {
   "cell_type": "markdown",
   "metadata": {},
   "source": [
    "## Cerința 3\n",
    "\n",
    "Implementați funcția `check_constraint` care primește o constrângere `constraint` și o soluție parțială `solution` și întoarce `True` dacă soluția respectă constrângerea și `False` altfel.\n",
    "\n",
    "**Hint:** pentru a apela o funcție știind lista parametrilor săi folosiți `f(*args)`, unde `args` este lista de argumente."
   ]
  },
  {
   "cell_type": "code",
   "execution_count": 27,
   "metadata": {
    "pycharm": {
     "is_executing": false
    }
   },
   "outputs": [
    {
     "name": "stdout",
     "text": [
      "True\nFalse\nTrue\nFalse\n"
     ],
     "output_type": "stream"
    }
   ],
   "source": [
    "def check_constraint(solution, constraint):\n",
    "    return constraint[1](*map(lambda x: solution[x], constraint[0]))\n",
    "\n",
    "print(check_constraint({\"France\": \"blue\", \"Belgium\": \"green\"}, ConstraintsC[1])) # => True\n",
    "print(check_constraint({\"France\": \"blue\", \"Belgium\": \"blue\"}, ConstraintsC[1])) # => False\n",
    "print(check_constraint({\"C\": 10, \"A\": 10}, ConstraintsA[-2])) # => True\n",
    "print(check_constraint({\"C\": 10, \"A\": 3}, ConstraintsA[-2])) # => False"
   ]
  },
  {
   "cell_type": "markdown",
   "metadata": {},
   "source": [
    "## Cerința 4: PCSP\n",
    "\n",
    "Completați ceea ce lipsește în algoritmul PCSP.\n",
    "\n",
    "* `vars` -- variabilele care mai rămân de verificat\n",
    "* `domains` -- domeniile pentru variabilele care mai rămân de verificat, cu valorile care mai rămân de verificat pentru fiecare variabilă\n",
    "* `constrains` -- lista de constrângeri\n",
    "* `acceptable_cost` -- costul pentru care se consideră ca soluția este satisfăcătoare\n",
    "* `solution` -- soluția parțială, conținând valori pentru variabilele verificate până acum\n",
    "* `cost` -- costul soluției parțiale (`solution`) -- numărul de constrângeri nesatisfăcute\n",
    "\n",
    "Valoare întoarsă de funcție este `True` dacă a fost găsită o soluție completă satisfăcătoare (vezi costul acceptabil), și `False` altfel.\n",
    "\n",
    "Se folosesc două variabile globale:\n",
    "* `best_cost` -- cel mai bun (mic) cost întâlnit până acum în explorare, pentru o soluție completă\n",
    "* `best_solution` -- soluția corespunzătoare celui mai bun cost"
   ]
  },
  {
   "cell_type": "code",
   "execution_count": 28,
   "metadata": {
    "scrolled": true,
    "pycharm": {
     "is_executing": false
    }
   },
   "outputs": [
    {
     "name": "stdout",
     "text": [
      "New best: 14 - {'A': 0, 'B': 0, 'C': 0, 'D': 0, 'E': 0}\nNew best: 10 - {'A': 0, 'B': 0, 'C': 0, 'D': 0, 'E': 1}\nNew best: 8 - {'A': 0, 'B': 0, 'C': 0, 'D': 1, 'E': 1}\nNew best: 7 - {'A': 0, 'B': 0, 'C': 0, 'D': 1, 'E': 2}\nNew best: 6 - {'A': 0, 'B': 0, 'C': 0, 'D': 6, 'E': 1}\nNew best: 5 - {'A': 0, 'B': 0, 'C': 1, 'D': 2, 'E': 3}\nNew best: 4 - {'A': 0, 'B': 0, 'C': 1, 'D': 6, 'E': 2}\nNew best: 3 - {'A': 0, 'B': 1, 'C': 2, 'D': 5, 'E': 3}\nNew best: 2 - {'A': 2, 'B': 8, 'C': 4, 'D': 7, 'E': 9}\nNew best: 1 - {'A': 6, 'B': 4, 'C': 0, 'D': 2, 'E': 1}\nBest found: 1 - {'A': 6, 'B': 4, 'C': 0, 'D': 2, 'E': 1}\nNew best: 6 - {'France': 'blue', 'Germany': 'blue', 'Loux': 'blue', 'Belgium': 'blue', 'Netherlands': 'red'}\nNew best: 4 - {'France': 'blue', 'Germany': 'blue', 'Loux': 'blue', 'Belgium': 'red', 'Netherlands': 'blue'}\nNew best: 3 - {'France': 'blue', 'Germany': 'blue', 'Loux': 'blue', 'Belgium': 'red', 'Netherlands': 'yellow'}\nNew best: 2 - {'France': 'blue', 'Germany': 'blue', 'Loux': 'red', 'Belgium': 'red', 'Netherlands': 'yellow'}\nNew best: 1 - {'France': 'blue', 'Germany': 'blue', 'Loux': 'red', 'Belgium': 'yellow', 'Netherlands': 'red'}\nNew best: 0 - {'France': 'blue', 'Germany': 'red', 'Loux': 'yellow', 'Belgium': 'green', 'Netherlands': 'blue'}\nBest found: 0 - {'France': 'blue', 'Germany': 'red', 'Loux': 'yellow', 'Belgium': 'green', 'Netherlands': 'blue'}\n"
     ],
     "output_type": "stream"
    }
   ],
   "source": [
    "def PCSP(vars, domains, constraints, acceptable_cost, solution, cost):\n",
    "    global best_solution\n",
    "    global best_cost\n",
    "    if not vars:\n",
    "        # Dacă nu mai sunt variabile, am ajuns la o soluție mai bună\n",
    "        print(\"New best: \" + str(cost) + \" - \" + str(solution))\n",
    "        # TODO: salvați soluția nou-descoperită\n",
    "        # TODO: dacă este suficient de bună, funcția întoarce True\n",
    "        best_cost = cost\n",
    "        best_solution = solution\n",
    "        return cost <= acceptable_cost\n",
    "    \n",
    "    elif not domains[vars[0]]:\n",
    "        # Dacă nu mai sunt valori în domeniu, am terminat căutarea\n",
    "        return False\n",
    "    elif cost == best_cost:\n",
    "        # Dacă am ajuns deja la un cost identic cu cel al celei mai bune soluții, nu mergem mai departe\n",
    "        return False\n",
    "    else:\n",
    "        # TODO: Luăm prima variabilă și prima valoare din domeniu\n",
    "        var = vars.pop(0)\n",
    "        val = domains[var][0]\n",
    "        \n",
    "        # TODO: Construim noua soluție\n",
    "        new_solution = copy(solution)\n",
    "        new_solution[var] = val\n",
    "        \n",
    "        \n",
    "        # TODO: Obținem lista constrângerilor ce pot fi evaluate acum\n",
    "        constraint = fixed_constraints(new_solution, get_constraints(var, constraints))\n",
    "        \n",
    "        for value in domains[var]:\n",
    "            new_solution[var] = value\n",
    "            \n",
    "            # TODO:  Calculăm costul noii soluții parțiale (fiecare constrângere încălcată = 1)\n",
    "            new_cost = cost\n",
    "            if constraint:\n",
    "                new_cost = cost + reduce(operator.add, list(map(lambda x: 0 if check_constraint(new_solution, x) else 1, constraint)))\n",
    "            \n",
    "            # Verificăm dacă noul cost este mai mic decât cel mai bun cost\n",
    "            if new_cost < best_cost:\n",
    "                # Dacă noul cost este mai mic decât cel mai bun cunoscut, rezolvăm pentru restul variabilelor\n",
    "                # Dacă apelul recursiv întoarce True, a fost găsită o soluție suficient de bună, deci întoarcem True\n",
    "                if PCSP(vars, domains, constraints, acceptable_cost, new_solution, new_cost):\n",
    "                    return True\n",
    "                \n",
    "        # Verificăm pentru restul valorilor\n",
    "        vars.insert(0, var)\n",
    "    \n",
    "# Un wrapper care să instanțieze variabilele globale\n",
    "def run_pcsp(problem, acceptable_cost):\n",
    "    global best_solution\n",
    "    global best_cost\n",
    "\n",
    "    [vars, domains, constraints] = [problem[e] for e in [\"Vars\", \"Domains\", \"Constraints\"]]\n",
    "    \n",
    "    best_solution = {}\n",
    "    best_cost = len(constraints)\n",
    "\n",
    "    if PCSP(vars, deepcopy(domains), constraints, acceptable_cost, {}, 0):\n",
    "        print(\"Best found: \" + str(best_cost) + \" - \" + str(best_solution))\n",
    "    else:\n",
    "        print(\"Acceptable solution not found; \" + \"Best found: \" + str(best_cost) + \" - \" + str(best_solution))\n",
    "        \n",
    "# Rulăm măgăria\n",
    "run_pcsp(MathProblem, 1)\n",
    "run_pcsp(ColoringProblem, 0)"
   ]
  },
  {
   "cell_type": "markdown",
   "metadata": {
    "collapsed": true
   },
   "source": [
    "Expected for numbers:\n",
    "\n",
    "```\n",
    "New best: 14 - {'A': 0, 'B': 0, 'C': 0, 'D': 0, 'E': 0}\n",
    "New best: 10 - {'A': 0, 'B': 0, 'C': 0, 'D': 0, 'E': 1}\n",
    "New best: 8 - {'A': 0, 'B': 0, 'C': 0, 'D': 1, 'E': 1}\n",
    "New best: 7 - {'A': 0, 'B': 0, 'C': 0, 'D': 1, 'E': 2}\n",
    "New best: 6 - {'A': 0, 'B': 0, 'C': 0, 'D': 6, 'E': 1}\n",
    "New best: 5 - {'A': 0, 'B': 0, 'C': 1, 'D': 2, 'E': 3}\n",
    "New best: 4 - {'A': 0, 'B': 0, 'C': 1, 'D': 6, 'E': 2}\n",
    "New best: 3 - {'A': 0, 'B': 1, 'C': 2, 'D': 5, 'E': 3}\n",
    "New best: 2 - {'A': 2, 'B': 8, 'C': 4, 'D': 7, 'E': 9}\n",
    "New best: 1 - {'A': 6, 'B': 4, 'C': 0, 'D': 2, 'E': 1}\n",
    "Best found: 1 - {'A': 6, 'B': 4, 'C': 0, 'D': 2, 'E': 1}\n",
    "```\n",
    "\n",
    "Expected for country colors:\n",
    "\n",
    "```\n",
    "New best:  8  -  {'Loux': 'blue', 'Belgium': 'blue', 'Netherlands': 'blue', 'Germany': 'blue', 'France': 'blue'}\n",
    "New best:  6  -  {'Loux': 'blue', 'Belgium': 'blue', 'Netherlands': 'red', 'Germany': 'blue', 'France': 'blue'}\n",
    "New best:  4  -  {'Loux': 'blue', 'Belgium': 'red', 'Netherlands': 'blue', 'Germany': 'blue', 'France': 'blue'}\n",
    "New best:  3  -  {'Loux': 'blue', 'Belgium': 'red', 'Netherlands': 'yellow', 'Germany': 'blue', 'France': 'blue'}\n",
    "New best:  2  -  {'Loux': 'red', 'Belgium': 'red', 'Netherlands': 'yellow', 'Germany': 'blue', 'France': 'blue'}\n",
    "New best:  1  -  {'Loux': 'red', 'Belgium': 'yellow', 'Netherlands': 'red', 'Germany': 'blue', 'France': 'blue'}\n",
    "Best found: 1  -  {'Loux': 'red', 'Belgium': 'yellow', 'Netherlands': 'red', 'Germany': 'blue', 'France': 'blue'}\n",
    "```"
   ]
  }
 ],
 "metadata": {
  "kernelspec": {
   "display_name": "Python 3",
   "language": "python",
   "name": "python3"
  },
  "language_info": {
   "codemirror_mode": {
    "name": "ipython",
    "version": 3
   },
   "file_extension": ".py",
   "mimetype": "text/x-python",
   "name": "python",
   "nbconvert_exporter": "python",
   "pygments_lexer": "ipython3",
   "version": "3.7.2"
  },
  "pycharm": {
   "stem_cell": {
    "cell_type": "raw",
    "source": [],
    "metadata": {
     "collapsed": false
    }
   }
  }
 },
 "nbformat": 4,
 "nbformat_minor": 1
}